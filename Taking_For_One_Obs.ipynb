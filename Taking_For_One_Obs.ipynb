{
 "cells": [
  {
   "cell_type": "code",
   "execution_count": 2,
   "metadata": {},
   "outputs": [],
   "source": [
    "import pandas as pd\n",
    "import numpy as np\n",
    "import matplotlib.pyplot as plt\n",
    "import seaborn as sns\n",
    "\n",
    "from tensorflow.keras.models import Sequential\n",
    "from tensorflow.keras.layers import Dense, Flatten, LSTM\n",
    "from tensorflow.keras.callbacks import EarlyStopping\n",
    "from sklearn.preprocessing import MinMaxScaler\n",
    "from sklearn.metrics import mean_squared_error"
   ]
  },
  {
   "cell_type": "code",
   "execution_count": 3,
   "metadata": {},
   "outputs": [
    {
     "data": {
      "text/html": [
       "<div>\n",
       "<style scoped>\n",
       "    .dataframe tbody tr th:only-of-type {\n",
       "        vertical-align: middle;\n",
       "    }\n",
       "\n",
       "    .dataframe tbody tr th {\n",
       "        vertical-align: top;\n",
       "    }\n",
       "\n",
       "    .dataframe thead th {\n",
       "        text-align: right;\n",
       "    }\n",
       "</style>\n",
       "<table border=\"1\" class=\"dataframe\">\n",
       "  <thead>\n",
       "    <tr style=\"text-align: right;\">\n",
       "      <th></th>\n",
       "      <th>Glucose_time</th>\n",
       "      <th>reading</th>\n",
       "    </tr>\n",
       "  </thead>\n",
       "  <tbody>\n",
       "    <tr>\n",
       "      <th>0</th>\n",
       "      <td>2023-03-05 00:05:00</td>\n",
       "      <td>90.0</td>\n",
       "    </tr>\n",
       "    <tr>\n",
       "      <th>1</th>\n",
       "      <td>2023-03-05 00:10:00</td>\n",
       "      <td>95.0</td>\n",
       "    </tr>\n",
       "    <tr>\n",
       "      <th>2</th>\n",
       "      <td>2023-03-05 00:15:00</td>\n",
       "      <td>96.0</td>\n",
       "    </tr>\n",
       "    <tr>\n",
       "      <th>3</th>\n",
       "      <td>2023-03-05 00:20:00</td>\n",
       "      <td>96.0</td>\n",
       "    </tr>\n",
       "    <tr>\n",
       "      <th>4</th>\n",
       "      <td>2023-03-05 00:25:00</td>\n",
       "      <td>96.0</td>\n",
       "    </tr>\n",
       "  </tbody>\n",
       "</table>\n",
       "</div>"
      ],
      "text/plain": [
       "          Glucose_time  reading\n",
       "0  2023-03-05 00:05:00     90.0\n",
       "1  2023-03-05 00:10:00     95.0\n",
       "2  2023-03-05 00:15:00     96.0\n",
       "3  2023-03-05 00:20:00     96.0\n",
       "4  2023-03-05 00:25:00     96.0"
      ]
     },
     "execution_count": 3,
     "metadata": {},
     "output_type": "execute_result"
    }
   ],
   "source": [
    "df = pd.read_csv(\"./CSV_Files/glucose_data_resampled.csv\")\n",
    "# Drop all the columns which have unnamed in them\n",
    "df = df.loc[:, ~df.columns.str.contains('^Unnamed')]\n",
    "df.head()"
   ]
  },
  {
   "cell_type": "code",
   "execution_count": 4,
   "metadata": {},
   "outputs": [
    {
     "data": {
      "text/html": [
       "<div>\n",
       "<style scoped>\n",
       "    .dataframe tbody tr th:only-of-type {\n",
       "        vertical-align: middle;\n",
       "    }\n",
       "\n",
       "    .dataframe tbody tr th {\n",
       "        vertical-align: top;\n",
       "    }\n",
       "\n",
       "    .dataframe thead th {\n",
       "        text-align: right;\n",
       "    }\n",
       "</style>\n",
       "<table border=\"1\" class=\"dataframe\">\n",
       "  <thead>\n",
       "    <tr style=\"text-align: right;\">\n",
       "      <th></th>\n",
       "      <th>reading</th>\n",
       "    </tr>\n",
       "    <tr>\n",
       "      <th>Glucose_time</th>\n",
       "      <th></th>\n",
       "    </tr>\n",
       "  </thead>\n",
       "  <tbody>\n",
       "    <tr>\n",
       "      <th>2023-03-05 00:05:00</th>\n",
       "      <td>90.0</td>\n",
       "    </tr>\n",
       "    <tr>\n",
       "      <th>2023-03-05 00:10:00</th>\n",
       "      <td>95.0</td>\n",
       "    </tr>\n",
       "    <tr>\n",
       "      <th>2023-03-05 00:15:00</th>\n",
       "      <td>96.0</td>\n",
       "    </tr>\n",
       "    <tr>\n",
       "      <th>2023-03-05 00:20:00</th>\n",
       "      <td>96.0</td>\n",
       "    </tr>\n",
       "    <tr>\n",
       "      <th>2023-03-05 00:25:00</th>\n",
       "      <td>96.0</td>\n",
       "    </tr>\n",
       "  </tbody>\n",
       "</table>\n",
       "</div>"
      ],
      "text/plain": [
       "                     reading\n",
       "Glucose_time                \n",
       "2023-03-05 00:05:00     90.0\n",
       "2023-03-05 00:10:00     95.0\n",
       "2023-03-05 00:15:00     96.0\n",
       "2023-03-05 00:20:00     96.0\n",
       "2023-03-05 00:25:00     96.0"
      ]
     },
     "execution_count": 4,
     "metadata": {},
     "output_type": "execute_result"
    }
   ],
   "source": [
    "# Set the Glucose_time to datetime format and set it as the index\n",
    "df['Glucose_time'] = pd.to_datetime(df['Glucose_time'])\n",
    "df.set_index('Glucose_time', inplace=True)\n",
    "df.head()"
   ]
  },
  {
   "cell_type": "code",
   "execution_count": 5,
   "metadata": {},
   "outputs": [
    {
     "data": {
      "text/html": [
       "<div>\n",
       "<style scoped>\n",
       "    .dataframe tbody tr th:only-of-type {\n",
       "        vertical-align: middle;\n",
       "    }\n",
       "\n",
       "    .dataframe tbody tr th {\n",
       "        vertical-align: top;\n",
       "    }\n",
       "\n",
       "    .dataframe thead th {\n",
       "        text-align: right;\n",
       "    }\n",
       "</style>\n",
       "<table border=\"1\" class=\"dataframe\">\n",
       "  <thead>\n",
       "    <tr style=\"text-align: right;\">\n",
       "      <th></th>\n",
       "      <th>reading</th>\n",
       "    </tr>\n",
       "    <tr>\n",
       "      <th>Glucose_time</th>\n",
       "      <th></th>\n",
       "    </tr>\n",
       "  </thead>\n",
       "  <tbody>\n",
       "    <tr>\n",
       "      <th>2023-03-05 00:05:00</th>\n",
       "      <td>0.521127</td>\n",
       "    </tr>\n",
       "    <tr>\n",
       "      <th>2023-03-05 00:10:00</th>\n",
       "      <td>0.591549</td>\n",
       "    </tr>\n",
       "    <tr>\n",
       "      <th>2023-03-05 00:15:00</th>\n",
       "      <td>0.605634</td>\n",
       "    </tr>\n",
       "    <tr>\n",
       "      <th>2023-03-05 00:20:00</th>\n",
       "      <td>0.605634</td>\n",
       "    </tr>\n",
       "    <tr>\n",
       "      <th>2023-03-05 00:25:00</th>\n",
       "      <td>0.605634</td>\n",
       "    </tr>\n",
       "  </tbody>\n",
       "</table>\n",
       "</div>"
      ],
      "text/plain": [
       "                      reading\n",
       "Glucose_time                 \n",
       "2023-03-05 00:05:00  0.521127\n",
       "2023-03-05 00:10:00  0.591549\n",
       "2023-03-05 00:15:00  0.605634\n",
       "2023-03-05 00:20:00  0.605634\n",
       "2023-03-05 00:25:00  0.605634"
      ]
     },
     "execution_count": 5,
     "metadata": {},
     "output_type": "execute_result"
    }
   ],
   "source": [
    "checked_df = df.copy()\n",
    "scaler = MinMaxScaler(feature_range=(0, 1))\n",
    "df['reading'] = scaler.fit_transform(df[['reading']])\n",
    "df.head()"
   ]
  },
  {
   "cell_type": "code",
   "execution_count": 1,
   "metadata": {},
   "outputs": [],
   "source": [
    "def prepare_data(time_series_data, n_features):\n",
    "    X, y = [], []\n",
    "    for i in range(len(time_series_data)):\n",
    "        end_ix = i + n_features\n",
    "        if end_ix > len(time_series_data)-1:\n",
    "            break\n",
    "        seq_x, seq_y = time_series_data[i:end_ix], time_series_data[end_ix]\n",
    "        X.append(seq_x)\n",
    "        y.append(seq_y)\n",
    "    return np.array(X), np.array(y)"
   ]
  },
  {
   "cell_type": "code",
   "execution_count": 10,
   "metadata": {},
   "outputs": [],
   "source": [
    "n_features = 1\n",
    "patience_lst = [5, 10, 15, 20]\n"
   ]
  },
  {
   "cell_type": "code",
   "execution_count": 7,
   "metadata": {},
   "outputs": [],
   "source": [
    "time_series_data = df['reading'].values"
   ]
  },
  {
   "cell_type": "code",
   "execution_count": 8,
   "metadata": {},
   "outputs": [],
   "source": [
    "best_parameter = {}\n",
    "best_rmse = float('inf')\n",
    "best_predictions = None\n",
    "best_model = None"
   ]
  },
  {
   "cell_type": "code",
   "execution_count": 11,
   "metadata": {},
   "outputs": [
    {
     "name": "stdout",
     "output_type": "stream",
     "text": [
      "Train Shape:  (240, 1, 1) (240,)\n",
      "Validation Shape:  (24, 1, 1) (24,)\n",
      "Test Shape:  (22, 1, 1) (22,)\n"
     ]
    },
    {
     "name": "stderr",
     "output_type": "stream",
     "text": [
      "c:\\Users\\BMVSI-138\\AppData\\Local\\Programs\\Python\\Python312\\Lib\\site-packages\\keras\\src\\layers\\rnn\\rnn.py:204: UserWarning: Do not pass an `input_shape`/`input_dim` argument to a layer. When using Sequential models, prefer using an `Input(shape)` object as the first layer in the model instead.\n",
      "  super().__init__(**kwargs)\n"
     ]
    },
    {
     "name": "stdout",
     "output_type": "stream",
     "text": [
      "Epoch 17: early stopping\n",
      "\u001b[1m1/1\u001b[0m \u001b[32m━━━━━━━━━━━━━━━━━━━━\u001b[0m\u001b[37m\u001b[0m \u001b[1m1s\u001b[0m 753ms/step\n",
      "Train Shape:  (240, 1, 1) (240,)\n",
      "Validation Shape:  (24, 1, 1) (24,)\n",
      "Test Shape:  (22, 1, 1) (22,)\n"
     ]
    },
    {
     "name": "stderr",
     "output_type": "stream",
     "text": [
      "c:\\Users\\BMVSI-138\\AppData\\Local\\Programs\\Python\\Python312\\Lib\\site-packages\\keras\\src\\layers\\rnn\\rnn.py:204: UserWarning: Do not pass an `input_shape`/`input_dim` argument to a layer. When using Sequential models, prefer using an `Input(shape)` object as the first layer in the model instead.\n",
      "  super().__init__(**kwargs)\n"
     ]
    },
    {
     "name": "stdout",
     "output_type": "stream",
     "text": [
      "Epoch 58: early stopping\n",
      "\u001b[1m1/1\u001b[0m \u001b[32m━━━━━━━━━━━━━━━━━━━━\u001b[0m\u001b[37m\u001b[0m \u001b[1m1s\u001b[0m 1s/step   \n",
      "Train Shape:  (240, 1, 1) (240,)\n",
      "Validation Shape:  (24, 1, 1) (24,)\n",
      "Test Shape:  (22, 1, 1) (22,)\n"
     ]
    },
    {
     "name": "stderr",
     "output_type": "stream",
     "text": [
      "c:\\Users\\BMVSI-138\\AppData\\Local\\Programs\\Python\\Python312\\Lib\\site-packages\\keras\\src\\layers\\rnn\\rnn.py:204: UserWarning: Do not pass an `input_shape`/`input_dim` argument to a layer. When using Sequential models, prefer using an `Input(shape)` object as the first layer in the model instead.\n",
      "  super().__init__(**kwargs)\n"
     ]
    },
    {
     "name": "stdout",
     "output_type": "stream",
     "text": [
      "Epoch 27: early stopping\n",
      "\u001b[1m1/1\u001b[0m \u001b[32m━━━━━━━━━━━━━━━━━━━━\u001b[0m\u001b[37m\u001b[0m \u001b[1m1s\u001b[0m 1s/step\n",
      "Train Shape:  (240, 1, 1) (240,)\n",
      "Validation Shape:  (24, 1, 1) (24,)\n",
      "Test Shape:  (22, 1, 1) (22,)\n"
     ]
    },
    {
     "name": "stderr",
     "output_type": "stream",
     "text": [
      "c:\\Users\\BMVSI-138\\AppData\\Local\\Programs\\Python\\Python312\\Lib\\site-packages\\keras\\src\\layers\\rnn\\rnn.py:204: UserWarning: Do not pass an `input_shape`/`input_dim` argument to a layer. When using Sequential models, prefer using an `Input(shape)` object as the first layer in the model instead.\n",
      "  super().__init__(**kwargs)\n"
     ]
    },
    {
     "name": "stdout",
     "output_type": "stream",
     "text": [
      "Epoch 36: early stopping\n",
      "\u001b[1m1/1\u001b[0m \u001b[32m━━━━━━━━━━━━━━━━━━━━\u001b[0m\u001b[37m\u001b[0m \u001b[1m2s\u001b[0m 2s/step\n",
      "**************************************************\n",
      "Best Parameters:  {'n_features': 1, 'patience': 10}\n",
      "Best RMSE:  0.02363069333853135\n",
      "Prediction :-  [[0.6981262 ]\n",
      " [0.6704693 ]\n",
      " [0.6569299 ]\n",
      " [0.64358073]\n",
      " [0.5796164 ]\n",
      " [0.588921  ]\n",
      " [0.59832674]\n",
      " [0.6174447 ]\n",
      " [0.59832674]\n",
      " [0.5796164 ]\n",
      " [0.56736594]\n",
      " [0.561307  ]\n",
      " [0.5552918 ]\n",
      " [0.5796164 ]\n",
      " [0.58580834]\n",
      " [0.592045  ]\n",
      " [0.6046537 ]\n",
      " [0.6046537 ]\n",
      " [0.6046537 ]\n",
      " [0.6046537 ]\n",
      " [0.5796164 ]\n",
      " [0.58580834]\n",
      " [0.592045  ]\n",
      " [0.6304197 ]]\n"
     ]
    }
   ],
   "source": [
    "for pat in patience_lst:\n",
    "    X, y = prepare_data(time_series_data, n_features)\n",
    "    X = X.reshape((X.shape[0], X.shape[1], 1))\n",
    "\n",
    "    test_size = 18\n",
    "    val_size = 24\n",
    "    train_size = X.shape[0] + (n_features - 5) - test_size - val_size\n",
    "\n",
    "    X_train, y_train = X[:train_size], y[:train_size]\n",
    "    X_val, y_val = X[train_size:train_size+val_size], y[train_size:train_size+val_size]\n",
    "    X_test, y_test = X[train_size+val_size:], y[train_size+val_size:]\n",
    "\n",
    "        # Print the shapes of the train, validation and test sets\n",
    "    print(\"Train Shape: \", X_train.shape, y_train.shape)\n",
    "    print(\"Validation Shape: \", X_val.shape, y_val.shape)\n",
    "    print(\"Test Shape: \", X_test.shape, y_test.shape)\n",
    "\n",
    "        \n",
    "        # Building the LSTM Model\n",
    "    model = Sequential()\n",
    "    model.add(LSTM(50, activation='relu', return_sequences=True, input_shape=(n_features, 1)))\n",
    "    model.add(LSTM(50, activation='relu'))\n",
    "    model.add(Dense(1))\n",
    "    model.compile(optimizer='adam', loss='mse')\n",
    "\n",
    "        # Early stopping\n",
    "    early_stopping = EarlyStopping(monitor='val_loss', patience=pat, verbose=1)\n",
    "\n",
    "        # Fitting the model\n",
    "    model.fit(X_train, y_train, epochs = 300, validation_data=(X_val, y_val), callbacks=[early_stopping], verbose=0)\n",
    "\n",
    "        # Choosing the best model based on the validation loss\n",
    "    predictions = model.predict(X_val)\n",
    "    rmse = np.sqrt(mean_squared_error(y_val, predictions))\n",
    "    if rmse < best_rmse:\n",
    "        best_rmse = rmse\n",
    "        best_parameter['n_features'] = 1\n",
    "        best_parameter['patience'] = pat\n",
    "        best_predictions = predictions\n",
    "        best_model = model\n",
    "\n",
    "print(\"*\" * 50)\n",
    "print(\"Best Parameters: \", best_parameter)\n",
    "print(\"Best RMSE: \", best_rmse)\n",
    "print(\"Prediction :- \", best_predictions)"
   ]
  },
  {
   "cell_type": "code",
   "execution_count": 12,
   "metadata": {},
   "outputs": [
    {
     "data": {
      "text/plain": [
       "array([102.56696 , 100.603325,  99.64202 ,  98.69423 ,  94.15277 ,\n",
       "        94.81339 ,  95.4812  ,  96.83857 ,  95.4812  ,  94.15277 ,\n",
       "        93.28298 ,  92.8528  ,  92.42572 ,  94.15277 ,  94.59239 ,\n",
       "        95.035194,  95.93042 ,  95.93042 ,  95.93042 ,  95.93042 ,\n",
       "        94.15277 ,  94.59239 ,  95.035194,  97.759796], dtype=float32)"
      ]
     },
     "execution_count": 12,
     "metadata": {},
     "output_type": "execute_result"
    }
   ],
   "source": [
    "validation_predictions_in_original_scale = scaler.inverse_transform(best_predictions)\n",
    "xlst = validation_predictions_in_original_scale.flatten()\n",
    "xlst"
   ]
  },
  {
   "cell_type": "code",
   "execution_count": 13,
   "metadata": {},
   "outputs": [
    {
     "data": {
      "text/plain": [
       "array([104.  , 102.  , 101.  , 100.  ,  95.  ,  95.75,  96.5 ,  98.  ,\n",
       "        96.5 ,  95.  ,  94.  ,  93.5 ,  93.  ,  95.  ,  95.5 ,  96.  ,\n",
       "        97.  ,  97.  ,  97.  ,  97.  ,  95.  ,  95.5 ,  96.  ,  99.  ])"
      ]
     },
     "execution_count": 13,
     "metadata": {},
     "output_type": "execute_result"
    }
   ],
   "source": [
    "actual_values = df['reading'].values[train_size:train_size+val_size]\n",
    "actual_values = actual_values.reshape(-1, 1)\n",
    "actual_values_in_original_scale = scaler.inverse_transform(actual_values)\n",
    "actual_values_in_original_scale.flatten()"
   ]
  },
  {
   "cell_type": "code",
   "execution_count": 16,
   "metadata": {},
   "outputs": [
    {
     "name": "stderr",
     "output_type": "stream",
     "text": [
      "c:\\Users\\BMVSI-138\\AppData\\Local\\Programs\\Python\\Python312\\Lib\\site-packages\\numpy\\core\\fromnumeric.py:3504: RuntimeWarning: Mean of empty slice.\n",
      "  return _methods._mean(a, axis=axis, dtype=dtype,\n",
      "c:\\Users\\BMVSI-138\\AppData\\Local\\Programs\\Python\\Python312\\Lib\\site-packages\\numpy\\core\\_methods.py:129: RuntimeWarning: invalid value encountered in scalar divide\n",
      "  ret = ret.dtype.type(ret / rcount)\n"
     ]
    }
   ],
   "source": [
    "# Now I want it to be printed in the form of a dataframe with the predicted values with a shift of 1 and the actual values\n",
    "\n",
    "final = pd.DataFrame()\n",
    "# Append the time of time series from values 240 to 264\n",
    "final['time'] = df.index[train_size:train_size+val_size]\n",
    "\n",
    "\n",
    "# Append the precited values with a shift of 1 and the predicted value at 240 being the mean of actual values at 237, 238 and 239. Append the mean first and then the predicted values\n",
    "final['Shifted_prediction'] = [np.mean(actual_values_in_original_scale[237:240])] + validation_predictions_in_original_scale.flatten().tolist()[:-1]\n",
    "final['unshifted_prediction'] = xlst.flatten().tolist()\n",
    "\n",
    "# Append the actual values\n",
    "final['actual'] = actual_values_in_original_scale.flatten()"
   ]
  },
  {
   "cell_type": "code",
   "execution_count": 17,
   "metadata": {},
   "outputs": [
    {
     "data": {
      "text/html": [
       "<div>\n",
       "<style scoped>\n",
       "    .dataframe tbody tr th:only-of-type {\n",
       "        vertical-align: middle;\n",
       "    }\n",
       "\n",
       "    .dataframe tbody tr th {\n",
       "        vertical-align: top;\n",
       "    }\n",
       "\n",
       "    .dataframe thead th {\n",
       "        text-align: right;\n",
       "    }\n",
       "</style>\n",
       "<table border=\"1\" class=\"dataframe\">\n",
       "  <thead>\n",
       "    <tr style=\"text-align: right;\">\n",
       "      <th></th>\n",
       "      <th>time</th>\n",
       "      <th>Shifted_prediction</th>\n",
       "      <th>unshifted_prediction</th>\n",
       "      <th>actual</th>\n",
       "    </tr>\n",
       "  </thead>\n",
       "  <tbody>\n",
       "    <tr>\n",
       "      <th>0</th>\n",
       "      <td>2023-03-05 20:05:00</td>\n",
       "      <td>NaN</td>\n",
       "      <td>102.566963</td>\n",
       "      <td>104.00</td>\n",
       "    </tr>\n",
       "    <tr>\n",
       "      <th>1</th>\n",
       "      <td>2023-03-05 20:10:00</td>\n",
       "      <td>102.566963</td>\n",
       "      <td>100.603325</td>\n",
       "      <td>102.00</td>\n",
       "    </tr>\n",
       "    <tr>\n",
       "      <th>2</th>\n",
       "      <td>2023-03-05 20:15:00</td>\n",
       "      <td>100.603325</td>\n",
       "      <td>99.642021</td>\n",
       "      <td>101.00</td>\n",
       "    </tr>\n",
       "    <tr>\n",
       "      <th>3</th>\n",
       "      <td>2023-03-05 20:20:00</td>\n",
       "      <td>99.642021</td>\n",
       "      <td>98.694229</td>\n",
       "      <td>100.00</td>\n",
       "    </tr>\n",
       "    <tr>\n",
       "      <th>4</th>\n",
       "      <td>2023-03-05 20:25:00</td>\n",
       "      <td>98.694229</td>\n",
       "      <td>94.152771</td>\n",
       "      <td>95.00</td>\n",
       "    </tr>\n",
       "    <tr>\n",
       "      <th>5</th>\n",
       "      <td>2023-03-05 20:30:00</td>\n",
       "      <td>94.152771</td>\n",
       "      <td>94.813393</td>\n",
       "      <td>95.75</td>\n",
       "    </tr>\n",
       "    <tr>\n",
       "      <th>6</th>\n",
       "      <td>2023-03-05 20:35:00</td>\n",
       "      <td>94.813393</td>\n",
       "      <td>95.481201</td>\n",
       "      <td>96.50</td>\n",
       "    </tr>\n",
       "    <tr>\n",
       "      <th>7</th>\n",
       "      <td>2023-03-05 20:40:00</td>\n",
       "      <td>95.481201</td>\n",
       "      <td>96.838570</td>\n",
       "      <td>98.00</td>\n",
       "    </tr>\n",
       "    <tr>\n",
       "      <th>8</th>\n",
       "      <td>2023-03-05 20:45:00</td>\n",
       "      <td>96.838570</td>\n",
       "      <td>95.481201</td>\n",
       "      <td>96.50</td>\n",
       "    </tr>\n",
       "    <tr>\n",
       "      <th>9</th>\n",
       "      <td>2023-03-05 20:50:00</td>\n",
       "      <td>95.481201</td>\n",
       "      <td>94.152771</td>\n",
       "      <td>95.00</td>\n",
       "    </tr>\n",
       "    <tr>\n",
       "      <th>10</th>\n",
       "      <td>2023-03-05 20:55:00</td>\n",
       "      <td>94.152771</td>\n",
       "      <td>93.282982</td>\n",
       "      <td>94.00</td>\n",
       "    </tr>\n",
       "    <tr>\n",
       "      <th>11</th>\n",
       "      <td>2023-03-05 21:00:00</td>\n",
       "      <td>93.282982</td>\n",
       "      <td>92.852798</td>\n",
       "      <td>93.50</td>\n",
       "    </tr>\n",
       "    <tr>\n",
       "      <th>12</th>\n",
       "      <td>2023-03-05 21:05:00</td>\n",
       "      <td>92.852798</td>\n",
       "      <td>92.425720</td>\n",
       "      <td>93.00</td>\n",
       "    </tr>\n",
       "    <tr>\n",
       "      <th>13</th>\n",
       "      <td>2023-03-05 21:10:00</td>\n",
       "      <td>92.425720</td>\n",
       "      <td>94.152771</td>\n",
       "      <td>95.00</td>\n",
       "    </tr>\n",
       "    <tr>\n",
       "      <th>14</th>\n",
       "      <td>2023-03-05 21:15:00</td>\n",
       "      <td>94.152771</td>\n",
       "      <td>94.592392</td>\n",
       "      <td>95.50</td>\n",
       "    </tr>\n",
       "    <tr>\n",
       "      <th>15</th>\n",
       "      <td>2023-03-05 21:20:00</td>\n",
       "      <td>94.592392</td>\n",
       "      <td>95.035194</td>\n",
       "      <td>96.00</td>\n",
       "    </tr>\n",
       "    <tr>\n",
       "      <th>16</th>\n",
       "      <td>2023-03-05 21:25:00</td>\n",
       "      <td>95.035194</td>\n",
       "      <td>95.930420</td>\n",
       "      <td>97.00</td>\n",
       "    </tr>\n",
       "    <tr>\n",
       "      <th>17</th>\n",
       "      <td>2023-03-05 21:30:00</td>\n",
       "      <td>95.930420</td>\n",
       "      <td>95.930420</td>\n",
       "      <td>97.00</td>\n",
       "    </tr>\n",
       "    <tr>\n",
       "      <th>18</th>\n",
       "      <td>2023-03-05 21:35:00</td>\n",
       "      <td>95.930420</td>\n",
       "      <td>95.930420</td>\n",
       "      <td>97.00</td>\n",
       "    </tr>\n",
       "    <tr>\n",
       "      <th>19</th>\n",
       "      <td>2023-03-05 21:40:00</td>\n",
       "      <td>95.930420</td>\n",
       "      <td>95.930420</td>\n",
       "      <td>97.00</td>\n",
       "    </tr>\n",
       "    <tr>\n",
       "      <th>20</th>\n",
       "      <td>2023-03-05 21:45:00</td>\n",
       "      <td>95.930420</td>\n",
       "      <td>94.152771</td>\n",
       "      <td>95.00</td>\n",
       "    </tr>\n",
       "    <tr>\n",
       "      <th>21</th>\n",
       "      <td>2023-03-05 21:50:00</td>\n",
       "      <td>94.152771</td>\n",
       "      <td>94.592392</td>\n",
       "      <td>95.50</td>\n",
       "    </tr>\n",
       "    <tr>\n",
       "      <th>22</th>\n",
       "      <td>2023-03-05 21:55:00</td>\n",
       "      <td>94.592392</td>\n",
       "      <td>95.035194</td>\n",
       "      <td>96.00</td>\n",
       "    </tr>\n",
       "    <tr>\n",
       "      <th>23</th>\n",
       "      <td>2023-03-05 22:00:00</td>\n",
       "      <td>95.035194</td>\n",
       "      <td>97.759796</td>\n",
       "      <td>99.00</td>\n",
       "    </tr>\n",
       "  </tbody>\n",
       "</table>\n",
       "</div>"
      ],
      "text/plain": [
       "                  time  Shifted_prediction  unshifted_prediction  actual\n",
       "0  2023-03-05 20:05:00                 NaN            102.566963  104.00\n",
       "1  2023-03-05 20:10:00          102.566963            100.603325  102.00\n",
       "2  2023-03-05 20:15:00          100.603325             99.642021  101.00\n",
       "3  2023-03-05 20:20:00           99.642021             98.694229  100.00\n",
       "4  2023-03-05 20:25:00           98.694229             94.152771   95.00\n",
       "5  2023-03-05 20:30:00           94.152771             94.813393   95.75\n",
       "6  2023-03-05 20:35:00           94.813393             95.481201   96.50\n",
       "7  2023-03-05 20:40:00           95.481201             96.838570   98.00\n",
       "8  2023-03-05 20:45:00           96.838570             95.481201   96.50\n",
       "9  2023-03-05 20:50:00           95.481201             94.152771   95.00\n",
       "10 2023-03-05 20:55:00           94.152771             93.282982   94.00\n",
       "11 2023-03-05 21:00:00           93.282982             92.852798   93.50\n",
       "12 2023-03-05 21:05:00           92.852798             92.425720   93.00\n",
       "13 2023-03-05 21:10:00           92.425720             94.152771   95.00\n",
       "14 2023-03-05 21:15:00           94.152771             94.592392   95.50\n",
       "15 2023-03-05 21:20:00           94.592392             95.035194   96.00\n",
       "16 2023-03-05 21:25:00           95.035194             95.930420   97.00\n",
       "17 2023-03-05 21:30:00           95.930420             95.930420   97.00\n",
       "18 2023-03-05 21:35:00           95.930420             95.930420   97.00\n",
       "19 2023-03-05 21:40:00           95.930420             95.930420   97.00\n",
       "20 2023-03-05 21:45:00           95.930420             94.152771   95.00\n",
       "21 2023-03-05 21:50:00           94.152771             94.592392   95.50\n",
       "22 2023-03-05 21:55:00           94.592392             95.035194   96.00\n",
       "23 2023-03-05 22:00:00           95.035194             97.759796   99.00"
      ]
     },
     "execution_count": 17,
     "metadata": {},
     "output_type": "execute_result"
    }
   ],
   "source": [
    "final"
   ]
  },
  {
   "cell_type": "code",
   "execution_count": 21,
   "metadata": {},
   "outputs": [
    {
     "name": "stderr",
     "output_type": "stream",
     "text": [
      "c:\\Users\\BMVSI-138\\AppData\\Local\\Programs\\Python\\Python312\\Lib\\site-packages\\sklearn\\base.py:493: UserWarning: X does not have valid feature names, but MinMaxScaler was fitted with feature names\n",
      "  warnings.warn(\n"
     ]
    },
    {
     "name": "stdout",
     "output_type": "stream",
     "text": [
      "\u001b[1m1/1\u001b[0m \u001b[32m━━━━━━━━━━━━━━━━━━━━\u001b[0m\u001b[37m\u001b[0m \u001b[1m0s\u001b[0m 110ms/step\n",
      "\u001b[1m1/1\u001b[0m \u001b[32m━━━━━━━━━━━━━━━━━━━━\u001b[0m\u001b[37m\u001b[0m \u001b[1m0s\u001b[0m 66ms/step\n",
      "\u001b[1m1/1\u001b[0m \u001b[32m━━━━━━━━━━━━━━━━━━━━\u001b[0m\u001b[37m\u001b[0m \u001b[1m0s\u001b[0m 67ms/step\n",
      "\u001b[1m1/1\u001b[0m \u001b[32m━━━━━━━━━━━━━━━━━━━━\u001b[0m\u001b[37m\u001b[0m \u001b[1m0s\u001b[0m 80ms/step\n",
      "\u001b[1m1/1\u001b[0m \u001b[32m━━━━━━━━━━━━━━━━━━━━\u001b[0m\u001b[37m\u001b[0m \u001b[1m0s\u001b[0m 98ms/step\n",
      "\u001b[1m1/1\u001b[0m \u001b[32m━━━━━━━━━━━━━━━━━━━━\u001b[0m\u001b[37m\u001b[0m \u001b[1m0s\u001b[0m 80ms/step\n",
      "\u001b[1m1/1\u001b[0m \u001b[32m━━━━━━━━━━━━━━━━━━━━\u001b[0m\u001b[37m\u001b[0m \u001b[1m0s\u001b[0m 65ms/step\n",
      "\u001b[1m1/1\u001b[0m \u001b[32m━━━━━━━━━━━━━━━━━━━━\u001b[0m\u001b[37m\u001b[0m \u001b[1m0s\u001b[0m 67ms/step\n",
      "\u001b[1m1/1\u001b[0m \u001b[32m━━━━━━━━━━━━━━━━━━━━\u001b[0m\u001b[37m\u001b[0m \u001b[1m0s\u001b[0m 83ms/step\n",
      "\u001b[1m1/1\u001b[0m \u001b[32m━━━━━━━━━━━━━━━━━━━━\u001b[0m\u001b[37m\u001b[0m \u001b[1m0s\u001b[0m 67ms/step\n"
     ]
    }
   ],
   "source": [
    "# Now we have a value of Glucose Reading which is a single value. And we need to predict the next value of Glucose Reading. So, we will use the LSTM model to predict next 10 values of Glucose Reading\n",
    "Reading_Given = 116.0\n",
    "Reading_Given_scaled = scaler.transform(np.array([[Reading_Given]]))\n",
    "\n",
    "n_features = 1\n",
    "\n",
    "# Now we will predict the next 10 values of Glucose Reading\n",
    "X_new = Reading_Given_scaled\n",
    "X_new = X_new.reshape((1, n_features, 1))\n",
    "predictions = []\n",
    "for i in range(10):\n",
    "    pred = best_model.predict(X_new)\n",
    "    predictions.append(pred)\n",
    "    X_new = pred\n",
    "    X_new = X_new.reshape((1, n_features, 1))"
   ]
  },
  {
   "cell_type": "code",
   "execution_count": 22,
   "metadata": {},
   "outputs": [
    {
     "data": {
      "text/plain": [
       "array([115.543884, 115.01166 , 114.39469 , 113.68498 , 112.87582 ,\n",
       "       111.96268 , 110.94413 , 109.822784, 108.605125, 107.301994],\n",
       "      dtype=float32)"
      ]
     },
     "execution_count": 22,
     "metadata": {},
     "output_type": "execute_result"
    }
   ],
   "source": [
    "predictions = np.array(predictions)\n",
    "predictions = predictions.reshape(-1, 1)\n",
    "predictions_in_original_scale = scaler.inverse_transform(predictions)\n",
    "predictions_in_original_scale.flatten()"
   ]
  },
  {
   "cell_type": "code",
   "execution_count": null,
   "metadata": {},
   "outputs": [],
   "source": []
  }
 ],
 "metadata": {
  "kernelspec": {
   "display_name": "Python 3",
   "language": "python",
   "name": "python3"
  },
  "language_info": {
   "codemirror_mode": {
    "name": "ipython",
    "version": 3
   },
   "file_extension": ".py",
   "mimetype": "text/x-python",
   "name": "python",
   "nbconvert_exporter": "python",
   "pygments_lexer": "ipython3",
   "version": "3.12.3"
  }
 },
 "nbformat": 4,
 "nbformat_minor": 2
}
