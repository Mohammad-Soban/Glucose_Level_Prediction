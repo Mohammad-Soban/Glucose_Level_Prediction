{
 "cells": [
  {
   "cell_type": "code",
   "execution_count": 1,
   "metadata": {},
   "outputs": [],
   "source": [
    "# Import The Required Libraries\n",
    "import pandas as pd\n",
    "import numpy as np\n",
    "import matplotlib.pyplot as plt\n",
    "import seaborn as sns\n",
    "import warnings\n",
    "import os\n",
    "\n",
    "from statsmodels.graphics.tsaplots import plot_acf, plot_pacf\n",
    "from tensorflow.keras.models import Sequential\n",
    "from tensorflow.keras.layers import Dense, Flatten, LSTM\n",
    "from tensorflow.keras.callbacks import EarlyStopping\n",
    "from sklearn.preprocessing import MinMaxScaler\n",
    "from sklearn.metrics import mean_squared_error"
   ]
  },
  {
   "cell_type": "code",
   "execution_count": 2,
   "metadata": {},
   "outputs": [],
   "source": [
    "# Ignore Warnings\n",
    "warnings.filterwarnings('ignore')"
   ]
  },
  {
   "cell_type": "code",
   "execution_count": 3,
   "metadata": {},
   "outputs": [],
   "source": [
    "df = pd.read_csv(\"./CSV_Files/glucose_data.csv\")"
   ]
  },
  {
   "cell_type": "code",
   "execution_count": 4,
   "metadata": {},
   "outputs": [
    {
     "data": {
      "text/html": [
       "<div>\n",
       "<style scoped>\n",
       "    .dataframe tbody tr th:only-of-type {\n",
       "        vertical-align: middle;\n",
       "    }\n",
       "\n",
       "    .dataframe tbody tr th {\n",
       "        vertical-align: top;\n",
       "    }\n",
       "\n",
       "    .dataframe thead th {\n",
       "        text-align: right;\n",
       "    }\n",
       "</style>\n",
       "<table border=\"1\" class=\"dataframe\">\n",
       "  <thead>\n",
       "    <tr style=\"text-align: right;\">\n",
       "      <th></th>\n",
       "      <th>reading</th>\n",
       "      <th>reading_time</th>\n",
       "      <th>Glucose_time</th>\n",
       "    </tr>\n",
       "  </thead>\n",
       "  <tbody>\n",
       "    <tr>\n",
       "      <th>0</th>\n",
       "      <td>108.1092</td>\n",
       "      <td>1566846845281</td>\n",
       "      <td>2019-08-26 19:14:05</td>\n",
       "    </tr>\n",
       "    <tr>\n",
       "      <th>1</th>\n",
       "      <td>293.0000</td>\n",
       "      <td>1566847405038</td>\n",
       "      <td>2019-08-26 19:23:25</td>\n",
       "    </tr>\n",
       "    <tr>\n",
       "      <th>2</th>\n",
       "      <td>293.0000</td>\n",
       "      <td>1566847453608</td>\n",
       "      <td>2019-08-26 19:24:14</td>\n",
       "    </tr>\n",
       "    <tr>\n",
       "      <th>3</th>\n",
       "      <td>293.0000</td>\n",
       "      <td>1566847752466</td>\n",
       "      <td>2019-08-26 19:29:12</td>\n",
       "    </tr>\n",
       "    <tr>\n",
       "      <th>4</th>\n",
       "      <td>296.0000</td>\n",
       "      <td>1566848052042</td>\n",
       "      <td>2019-08-26 19:34:12</td>\n",
       "    </tr>\n",
       "  </tbody>\n",
       "</table>\n",
       "</div>"
      ],
      "text/plain": [
       "    reading   reading_time         Glucose_time\n",
       "0  108.1092  1566846845281  2019-08-26 19:14:05\n",
       "1  293.0000  1566847405038  2019-08-26 19:23:25\n",
       "2  293.0000  1566847453608  2019-08-26 19:24:14\n",
       "3  293.0000  1566847752466  2019-08-26 19:29:12\n",
       "4  296.0000  1566848052042  2019-08-26 19:34:12"
      ]
     },
     "execution_count": 4,
     "metadata": {},
     "output_type": "execute_result"
    }
   ],
   "source": [
    "df.head()"
   ]
  },
  {
   "cell_type": "code",
   "execution_count": 5,
   "metadata": {},
   "outputs": [
    {
     "data": {
      "text/html": [
       "<div>\n",
       "<style scoped>\n",
       "    .dataframe tbody tr th:only-of-type {\n",
       "        vertical-align: middle;\n",
       "    }\n",
       "\n",
       "    .dataframe tbody tr th {\n",
       "        vertical-align: top;\n",
       "    }\n",
       "\n",
       "    .dataframe thead th {\n",
       "        text-align: right;\n",
       "    }\n",
       "</style>\n",
       "<table border=\"1\" class=\"dataframe\">\n",
       "  <thead>\n",
       "    <tr style=\"text-align: right;\">\n",
       "      <th></th>\n",
       "      <th>reading</th>\n",
       "      <th>reading_time</th>\n",
       "      <th>Glucose_time</th>\n",
       "    </tr>\n",
       "  </thead>\n",
       "  <tbody>\n",
       "    <tr>\n",
       "      <th>0</th>\n",
       "      <td>108.1092</td>\n",
       "      <td>1566846845281</td>\n",
       "      <td>2019-08-26 19:14:05</td>\n",
       "    </tr>\n",
       "    <tr>\n",
       "      <th>1</th>\n",
       "      <td>293.0000</td>\n",
       "      <td>1566847405038</td>\n",
       "      <td>2019-08-26 19:23:25</td>\n",
       "    </tr>\n",
       "    <tr>\n",
       "      <th>2</th>\n",
       "      <td>293.0000</td>\n",
       "      <td>1566847453608</td>\n",
       "      <td>2019-08-26 19:24:14</td>\n",
       "    </tr>\n",
       "    <tr>\n",
       "      <th>3</th>\n",
       "      <td>293.0000</td>\n",
       "      <td>1566847752466</td>\n",
       "      <td>2019-08-26 19:29:12</td>\n",
       "    </tr>\n",
       "    <tr>\n",
       "      <th>4</th>\n",
       "      <td>296.0000</td>\n",
       "      <td>1566848052042</td>\n",
       "      <td>2019-08-26 19:34:12</td>\n",
       "    </tr>\n",
       "  </tbody>\n",
       "</table>\n",
       "</div>"
      ],
      "text/plain": [
       "    reading   reading_time        Glucose_time\n",
       "0  108.1092  1566846845281 2019-08-26 19:14:05\n",
       "1  293.0000  1566847405038 2019-08-26 19:23:25\n",
       "2  293.0000  1566847453608 2019-08-26 19:24:14\n",
       "3  293.0000  1566847752466 2019-08-26 19:29:12\n",
       "4  296.0000  1566848052042 2019-08-26 19:34:12"
      ]
     },
     "execution_count": 5,
     "metadata": {},
     "output_type": "execute_result"
    }
   ],
   "source": [
    "df = df.loc[:, ~df.columns.str.contains('^Unnamed')]\n",
    "df['Glucose_time'] = pd.to_datetime(df['Glucose_time'])\n",
    "df.head()"
   ]
  },
  {
   "cell_type": "code",
   "execution_count": 6,
   "metadata": {},
   "outputs": [],
   "source": [
    "data = df[[\"Glucose_time\", \"reading\"]]\n",
    "data.set_index('Glucose_time', inplace=True)"
   ]
  },
  {
   "cell_type": "code",
   "execution_count": 7,
   "metadata": {},
   "outputs": [],
   "source": [
    "# Now we will be using 3 different methods of linear interpolation to fill the missing values in the dataset by setting the interval to 5, 10, 15 respectively\n",
    "\n",
    "df_5 = data.resample('5min').mean().interpolate(method='linear')\n",
    "df_10 = data.resample('10min').mean().interpolate(method='linear')\n",
    "df_15 = data.resample('15min').mean().interpolate(method='linear')"
   ]
  },
  {
   "cell_type": "code",
   "execution_count": 8,
   "metadata": {},
   "outputs": [
    {
     "data": {
      "text/html": [
       "<div>\n",
       "<style scoped>\n",
       "    .dataframe tbody tr th:only-of-type {\n",
       "        vertical-align: middle;\n",
       "    }\n",
       "\n",
       "    .dataframe tbody tr th {\n",
       "        vertical-align: top;\n",
       "    }\n",
       "\n",
       "    .dataframe thead th {\n",
       "        text-align: right;\n",
       "    }\n",
       "</style>\n",
       "<table border=\"1\" class=\"dataframe\">\n",
       "  <thead>\n",
       "    <tr style=\"text-align: right;\">\n",
       "      <th></th>\n",
       "      <th>reading</th>\n",
       "    </tr>\n",
       "    <tr>\n",
       "      <th>Glucose_time</th>\n",
       "      <th></th>\n",
       "    </tr>\n",
       "  </thead>\n",
       "  <tbody>\n",
       "    <tr>\n",
       "      <th>2019-08-26 19:10:00</th>\n",
       "      <td>108.1092</td>\n",
       "    </tr>\n",
       "    <tr>\n",
       "      <th>2019-08-26 19:15:00</th>\n",
       "      <td>200.5546</td>\n",
       "    </tr>\n",
       "    <tr>\n",
       "      <th>2019-08-26 19:20:00</th>\n",
       "      <td>293.0000</td>\n",
       "    </tr>\n",
       "    <tr>\n",
       "      <th>2019-08-26 19:25:00</th>\n",
       "      <td>293.0000</td>\n",
       "    </tr>\n",
       "    <tr>\n",
       "      <th>2019-08-26 19:30:00</th>\n",
       "      <td>296.0000</td>\n",
       "    </tr>\n",
       "  </tbody>\n",
       "</table>\n",
       "</div>"
      ],
      "text/plain": [
       "                      reading\n",
       "Glucose_time                 \n",
       "2019-08-26 19:10:00  108.1092\n",
       "2019-08-26 19:15:00  200.5546\n",
       "2019-08-26 19:20:00  293.0000\n",
       "2019-08-26 19:25:00  293.0000\n",
       "2019-08-26 19:30:00  296.0000"
      ]
     },
     "execution_count": 8,
     "metadata": {},
     "output_type": "execute_result"
    }
   ],
   "source": [
    "df_5.head()"
   ]
  },
  {
   "cell_type": "code",
   "execution_count": 9,
   "metadata": {},
   "outputs": [
    {
     "data": {
      "text/html": [
       "<div>\n",
       "<style scoped>\n",
       "    .dataframe tbody tr th:only-of-type {\n",
       "        vertical-align: middle;\n",
       "    }\n",
       "\n",
       "    .dataframe tbody tr th {\n",
       "        vertical-align: top;\n",
       "    }\n",
       "\n",
       "    .dataframe thead th {\n",
       "        text-align: right;\n",
       "    }\n",
       "</style>\n",
       "<table border=\"1\" class=\"dataframe\">\n",
       "  <thead>\n",
       "    <tr style=\"text-align: right;\">\n",
       "      <th></th>\n",
       "      <th>reading</th>\n",
       "    </tr>\n",
       "    <tr>\n",
       "      <th>Glucose_time</th>\n",
       "      <th></th>\n",
       "    </tr>\n",
       "  </thead>\n",
       "  <tbody>\n",
       "    <tr>\n",
       "      <th>2019-08-26 19:10:00</th>\n",
       "      <td>108.109200</td>\n",
       "    </tr>\n",
       "    <tr>\n",
       "      <th>2019-08-26 19:20:00</th>\n",
       "      <td>293.000000</td>\n",
       "    </tr>\n",
       "    <tr>\n",
       "      <th>2019-08-26 19:30:00</th>\n",
       "      <td>300.333333</td>\n",
       "    </tr>\n",
       "    <tr>\n",
       "      <th>2019-08-26 19:40:00</th>\n",
       "      <td>183.862488</td>\n",
       "    </tr>\n",
       "    <tr>\n",
       "      <th>2019-08-26 19:50:00</th>\n",
       "      <td>179.000000</td>\n",
       "    </tr>\n",
       "  </tbody>\n",
       "</table>\n",
       "</div>"
      ],
      "text/plain": [
       "                        reading\n",
       "Glucose_time                   \n",
       "2019-08-26 19:10:00  108.109200\n",
       "2019-08-26 19:20:00  293.000000\n",
       "2019-08-26 19:30:00  300.333333\n",
       "2019-08-26 19:40:00  183.862488\n",
       "2019-08-26 19:50:00  179.000000"
      ]
     },
     "execution_count": 9,
     "metadata": {},
     "output_type": "execute_result"
    }
   ],
   "source": [
    "df_10.head()"
   ]
  },
  {
   "cell_type": "code",
   "execution_count": 10,
   "metadata": {},
   "outputs": [
    {
     "data": {
      "text/html": [
       "<div>\n",
       "<style scoped>\n",
       "    .dataframe tbody tr th:only-of-type {\n",
       "        vertical-align: middle;\n",
       "    }\n",
       "\n",
       "    .dataframe tbody tr th {\n",
       "        vertical-align: top;\n",
       "    }\n",
       "\n",
       "    .dataframe thead th {\n",
       "        text-align: right;\n",
       "    }\n",
       "</style>\n",
       "<table border=\"1\" class=\"dataframe\">\n",
       "  <thead>\n",
       "    <tr style=\"text-align: right;\">\n",
       "      <th></th>\n",
       "      <th>reading</th>\n",
       "    </tr>\n",
       "    <tr>\n",
       "      <th>Glucose_time</th>\n",
       "      <th></th>\n",
       "    </tr>\n",
       "  </thead>\n",
       "  <tbody>\n",
       "    <tr>\n",
       "      <th>2019-08-26 19:00:00</th>\n",
       "      <td>108.109200</td>\n",
       "    </tr>\n",
       "    <tr>\n",
       "      <th>2019-08-26 19:15:00</th>\n",
       "      <td>293.000000</td>\n",
       "    </tr>\n",
       "    <tr>\n",
       "      <th>2019-08-26 19:30:00</th>\n",
       "      <td>254.317493</td>\n",
       "    </tr>\n",
       "    <tr>\n",
       "      <th>2019-08-26 19:45:00</th>\n",
       "      <td>180.000000</td>\n",
       "    </tr>\n",
       "    <tr>\n",
       "      <th>2019-08-26 20:00:00</th>\n",
       "      <td>185.919312</td>\n",
       "    </tr>\n",
       "  </tbody>\n",
       "</table>\n",
       "</div>"
      ],
      "text/plain": [
       "                        reading\n",
       "Glucose_time                   \n",
       "2019-08-26 19:00:00  108.109200\n",
       "2019-08-26 19:15:00  293.000000\n",
       "2019-08-26 19:30:00  254.317493\n",
       "2019-08-26 19:45:00  180.000000\n",
       "2019-08-26 20:00:00  185.919312"
      ]
     },
     "execution_count": 10,
     "metadata": {},
     "output_type": "execute_result"
    }
   ],
   "source": [
    "df_15.head()"
   ]
  },
  {
   "cell_type": "code",
   "execution_count": 27,
   "metadata": {},
   "outputs": [
    {
     "data": {
      "image/png": "[encoded data removed]",
      "text/plain": [
       "<Figure size 1600x800 with 1 Axes>"
      ]
     },
     "metadata": {},
     "output_type": "display_data"
    }
   ],
   "source": [
    "# Plot the Graphs of all the three datasets\n",
    "plt.figure(figsize=(16, 8))\n",
    "plt.plot(df_5, label='5 minutes')\n",
    "plt.plot(df_10, label='10 minutes')\n",
    "plt.plot(df_15, label='15 minutes')\n",
    "plt.title('Glucose Data')\n",
    "plt.xlabel('Time')\n",
    "plt.ylabel('Glucose Level')\n",
    "plt.legend()\n",
    "\n",
    "plt.show()"
   ]
  },
  {
   "cell_type": "code",
   "execution_count": 28,
   "metadata": {},
   "outputs": [],
   "source": [
    "# If the Resampled_Data Folder is not present, create it\n",
    "if not os.path.exists('Resampled_Data'):\n",
    "    os.makedirs('Resampled_Data')\n",
    "\n",
    "# Save the Respampled Data to the Resampled_Data Folder\n",
    "df_5.to_csv('./Resampled_Data/_Resampled_5_minutes.csv')\n",
    "df_10.to_csv('./Resampled_Data/_Resampled_10_minutes.csv')\n",
    "df_15.to_csv('./Resampled_Data/_Resampled_15_minutes.csv')"
   ]
  },
  {
   "cell_type": "markdown",
   "metadata": {},
   "source": [
    "#### <center>Plotting The ACF Plot For 5 Min Interval</center>"
   ]
  },
  {
   "cell_type": "code",
   "execution_count": 29,
   "metadata": {},
   "outputs": [
    {
     "data": {
      "text/plain": [
       "<Figure size 1600x800 with 0 Axes>"
      ]
     },
     "metadata": {},
     "output_type": "display_data"
    },
    {
     "data": {
      "image/png": "[encoded data removed]",
      "text/plain": [
       "<Figure size 640x480 with 1 Axes>"
      ]
     },
     "metadata": {},
     "output_type": "display_data"
    }
   ],
   "source": [
    "plt.figure(figsize=(16, 8))\n",
    "plot_acf(df_5['reading'], lags=50, title='ACF 5 minutes')\n",
    "plt.xlabel('Lags')\n",
    "plt.ylabel('Correlation')\n",
    "plt.title('ACF For Interval Of 5 Minutes')\n",
    "\n",
    "plt.show()\n"
   ]
  },
  {
   "cell_type": "markdown",
   "metadata": {},
   "source": [
    "#### <center>Plotting The ACF Plot For 10 Min Interval</center>"
   ]
  },
  {
   "cell_type": "code",
   "execution_count": 30,
   "metadata": {},
   "outputs": [
    {
     "data": {
      "text/plain": [
       "<Figure size 1600x800 with 0 Axes>"
      ]
     },
     "metadata": {},
     "output_type": "display_data"
    },
    {
     "data": {
      "image/png": "[encoded data removed]",
      "text/plain": [
       "<Figure size 640x480 with 1 Axes>"
      ]
     },
     "metadata": {},
     "output_type": "display_data"
    }
   ],
   "source": [
    "plt.figure(figsize=(16, 8))\n",
    "plot_acf(df_10['reading'], lags=50, title='ACF Plot For 10 Min Interval')\n",
    "plt.xlabel('Lags')\n",
    "plt.ylabel('Correlation')\n",
    "plt.title('ACF For Interval Of 10 Minutes')\n",
    "\n",
    "plt.show()"
   ]
  },
  {
   "cell_type": "markdown",
   "metadata": {},
   "source": [
    "#### <center>Plotting The ACF Plot For 15 Min Interval</center>"
   ]
  },
  {
   "cell_type": "code",
   "execution_count": 31,
   "metadata": {},
   "outputs": [
    {
     "data": {
      "text/plain": [
       "<Figure size 1600x800 with 0 Axes>"
      ]
     },
     "metadata": {},
     "output_type": "display_data"
    },
    {
     "data": {
      "image/png": "[encoded data removed]",
      "text/plain": [
       "<Figure size 640x480 with 1 Axes>"
      ]
     },
     "metadata": {},
     "output_type": "display_data"
    }
   ],
   "source": [
    "plt.figure(figsize=(16, 8))\n",
    "plot_acf(df_15['reading'], lags=50, title='ACF Plot For 15 Min Interval')\n",
    "plt.xlabel('Lags')\n",
    "plt.ylabel('Correlation')\n",
    "plt.title('ACF For Interval Of 15 Minutes')\n",
    "\n",
    "plt.show()"
   ]
  },
  {
   "cell_type": "code",
   "execution_count": 33,
   "metadata": {},
   "outputs": [],
   "source": [
    "original_5 = df_5.copy()\n",
    "original_10 = df_10.copy()\n",
    "original_15 = df_15.copy()"
   ]
  },
  {
   "cell_type": "code",
   "execution_count": 34,
   "metadata": {},
   "outputs": [],
   "source": [
    "scaler = MinMaxScaler(feature_range=(0, 1))"
   ]
  },
  {
   "cell_type": "code",
   "execution_count": 36,
   "metadata": {},
   "outputs": [],
   "source": [
    "df_5['reading'] = scaler.fit_transform(df_5[['reading']])\n",
    "df_10['reading'] = scaler.fit_transform(df_10[['reading']])\n",
    "df_15['reading'] = scaler.fit_transform(df_15[['reading']])"
   ]
  },
  {
   "cell_type": "code",
   "execution_count": 37,
   "metadata": {},
   "outputs": [
    {
     "name": "stdout",
     "output_type": "stream",
     "text": [
      "5 min Interval \n",
      "(287, 1)\n",
      "10 min Interval \n",
      "(144, 1)\n",
      "15 min Interval \n",
      "(96, 1)\n"
     ]
    }
   ],
   "source": [
    "# Print the shape of the datasets now\n",
    "print(\"5 min Interval \")\n",
    "print(df_5.shape)\n",
    "\n",
    "print(\"10 min Interval \")\n",
    "print(df_10.shape)\n",
    "\n",
    "print(\"15 min Interval \")\n",
    "print(df_15.shape)\n"
   ]
  },
  {
   "cell_type": "code",
   "execution_count": 38,
   "metadata": {},
   "outputs": [],
   "source": [
    "def prepare_data(time_series_data, n_features):\n",
    "    X, y = [], []\n",
    "    for i in range(len(time_series_data)):\n",
    "        end_ix = i + n_features\n",
    "        if end_ix > len(time_series_data)-1:\n",
    "            break\n",
    "        seq_x, seq_y = time_series_data[i:end_ix], time_series_data[end_ix]\n",
    "        X.append(seq_x)\n",
    "        y.append(seq_y)\n",
    "    return np.array(X), np.array(y)"
   ]
  },
  {
   "cell_type": "code",
   "execution_count": 39,
   "metadata": {},
   "outputs": [],
   "source": [
    "n_features_lst = [4, 5, 6, 8, 10]\n",
    "patience_lst = [5, 10, 15, 20, 25]"
   ]
  },
  {
   "cell_type": "code",
   "execution_count": 40,
   "metadata": {},
   "outputs": [],
   "source": [
    "time_series_5 = df_5['reading'].values\n",
    "time_series_10 = df_10['reading'].values\n",
    "time_series_15 = df_15['reading'].values"
   ]
  },
  {
   "cell_type": "code",
   "execution_count": 41,
   "metadata": {},
   "outputs": [],
   "source": [
    "best_param_5 = {}\n",
    "best_param_10 = {}\n",
    "best_param_15 = {}\n",
    "\n",
    "best_rmse_5 = float('inf')\n",
    "best_rmse_10 = float('inf')\n",
    "best_rmse_15 = float('inf')\n",
    "\n",
    "best_predictions_5 = None\n",
    "best_predictions_10 = None\n",
    "best_predictions_15 = None\n",
    "\n",
    "best_model_5 = None\n",
    "best_model_10 = None\n",
    "best_model_15 = None"
   ]
  },
  {
   "cell_type": "markdown",
   "metadata": {},
   "source": [
    "#### <center>LSTM MODEL AND PREDICTIONS ON TEST DATA FOR 5 MIN INTERVAL</center>"
   ]
  },
  {
   "cell_type": "code",
   "execution_count": 44,
   "metadata": {},
   "outputs": [
    {
     "name": "stdout",
     "output_type": "stream",
     "text": [
      "Epoch 16: early stopping\n",
      "\u001b[1m1/1\u001b[0m \u001b[32m━━━━━━━━━━━━━━━━━━━━\u001b[0m\u001b[37m\u001b[0m \u001b[1m1s\u001b[0m 695ms/step\n",
      "Epoch 19: early stopping\n",
      "\u001b[1m1/1\u001b[0m \u001b[32m━━━━━━━━━━━━━━━━━━━━\u001b[0m\u001b[37m\u001b[0m \u001b[1m1s\u001b[0m 1s/step\n",
      "Epoch 21: early stopping\n",
      "\u001b[1m1/1\u001b[0m \u001b[32m━━━━━━━━━━━━━━━━━━━━\u001b[0m\u001b[37m\u001b[0m \u001b[1m1s\u001b[0m 664ms/step\n",
      "Epoch 25: early stopping\n",
      "\u001b[1m1/1\u001b[0m \u001b[32m━━━━━━━━━━━━━━━━━━━━\u001b[0m\u001b[37m\u001b[0m \u001b[1m1s\u001b[0m 679ms/step\n",
      "WARNING:tensorflow:5 out of the last 5 calls to <function TensorFlowTrainer.make_predict_function.<locals>.one_step_on_data_distributed at 0x000001A56EBD0E00> triggered tf.function retracing. Tracing is expensive and the excessive number of tracings could be due to (1) creating @tf.function repeatedly in a loop, (2) passing tensors with different shapes, (3) passing Python objects instead of tensors. For (1), please define your @tf.function outside of the loop. For (2), @tf.function has reduce_retracing=True option that can avoid unnecessary retracing. For (3), please refer to https://www.tensorflow.org/guide/function#controlling_retracing and https://www.tensorflow.org/api_docs/python/tf/function for  more details.\n",
      "\u001b[1m1/1\u001b[0m \u001b[32m━━━━━━━━━━━━━━━━━━━━\u001b[0m\u001b[37m\u001b[0m \u001b[1m1s\u001b[0m 671ms/step\n",
      "Epoch 13: early stopping\n",
      "WARNING:tensorflow:6 out of the last 6 calls to <function TensorFlowTrainer.make_predict_function.<locals>.one_step_on_data_distributed at 0x000001A5711CF7E0> triggered tf.function retracing. Tracing is expensive and the excessive number of tracings could be due to (1) creating @tf.function repeatedly in a loop, (2) passing tensors with different shapes, (3) passing Python objects instead of tensors. For (1), please define your @tf.function outside of the loop. For (2), @tf.function has reduce_retracing=True option that can avoid unnecessary retracing. For (3), please refer to https://www.tensorflow.org/guide/function#controlling_retracing and https://www.tensorflow.org/api_docs/python/tf/function for  more details.\n",
      "\u001b[1m1/1\u001b[0m \u001b[32m━━━━━━━━━━━━━━━━━━━━\u001b[0m\u001b[37m\u001b[0m \u001b[1m1s\u001b[0m 665ms/step\n",
      "Epoch 16: early stopping\n",
      "\u001b[1m1/1\u001b[0m \u001b[32m━━━━━━━━━━━━━━━━━━━━\u001b[0m\u001b[37m\u001b[0m \u001b[1m1s\u001b[0m 634ms/step\n",
      "Epoch 64: early stopping\n",
      "\u001b[1m1/1\u001b[0m \u001b[32m━━━━━━━━━━━━━━━━━━━━\u001b[0m\u001b[37m\u001b[0m \u001b[1m1s\u001b[0m 634ms/step\n",
      "Epoch 28: early stopping\n",
      "\u001b[1m1/1\u001b[0m \u001b[32m━━━━━━━━━━━━━━━━━━━━\u001b[0m\u001b[37m\u001b[0m \u001b[1m1s\u001b[0m 673ms/step\n",
      "Epoch 58: early stopping\n",
      "\u001b[1m1/1\u001b[0m \u001b[32m━━━━━━━━━━━━━━━━━━━━\u001b[0m\u001b[37m\u001b[0m \u001b[1m1s\u001b[0m 670ms/step\n",
      "Epoch 15: early stopping\n",
      "\u001b[1m1/1\u001b[0m \u001b[32m━━━━━━━━━━━━━━━━━━━━\u001b[0m\u001b[37m\u001b[0m \u001b[1m1s\u001b[0m 669ms/step\n",
      "Epoch 40: early stopping\n",
      "\u001b[1m1/1\u001b[0m \u001b[32m━━━━━━━━━━━━━━━━━━━━\u001b[0m\u001b[37m\u001b[0m \u001b[1m1s\u001b[0m 634ms/step\n",
      "Epoch 23: early stopping\n",
      "\u001b[1m1/1\u001b[0m \u001b[32m━━━━━━━━━━━━━━━━━━━━\u001b[0m\u001b[37m\u001b[0m \u001b[1m1s\u001b[0m 590ms/step\n",
      "Epoch 49: early stopping\n",
      "\u001b[1m1/1\u001b[0m \u001b[32m━━━━━━━━━━━━━━━━━━━━\u001b[0m\u001b[37m\u001b[0m \u001b[1m1s\u001b[0m 678ms/step\n",
      "Epoch 69: early stopping\n",
      "\u001b[1m1/1\u001b[0m \u001b[32m━━━━━━━━━━━━━━━━━━━━\u001b[0m\u001b[37m\u001b[0m \u001b[1m1s\u001b[0m 678ms/step\n",
      "Epoch 15: early stopping\n",
      "\u001b[1m1/1\u001b[0m \u001b[32m━━━━━━━━━━━━━━━━━━━━\u001b[0m\u001b[37m\u001b[0m \u001b[1m1s\u001b[0m 677ms/step\n",
      "Epoch 33: early stopping\n",
      "\u001b[1m1/1\u001b[0m \u001b[32m━━━━━━━━━━━━━━━━━━━━\u001b[0m\u001b[37m\u001b[0m \u001b[1m1s\u001b[0m 633ms/step\n",
      "Epoch 40: early stopping\n",
      "\u001b[1m1/1\u001b[0m \u001b[32m━━━━━━━━━━━━━━━━━━━━\u001b[0m\u001b[37m\u001b[0m \u001b[1m1s\u001b[0m 649ms/step\n",
      "Epoch 44: early stopping\n",
      "\u001b[1m1/1\u001b[0m \u001b[32m━━━━━━━━━━━━━━━━━━━━\u001b[0m\u001b[37m\u001b[0m \u001b[1m1s\u001b[0m 650ms/step\n",
      "Epoch 43: early stopping\n",
      "\u001b[1m1/1\u001b[0m \u001b[32m━━━━━━━━━━━━━━━━━━━━\u001b[0m\u001b[37m\u001b[0m \u001b[1m1s\u001b[0m 678ms/step\n",
      "Epoch 12: early stopping\n",
      "\u001b[1m1/1\u001b[0m \u001b[32m━━━━━━━━━━━━━━━━━━━━\u001b[0m\u001b[37m\u001b[0m \u001b[1m1s\u001b[0m 665ms/step\n",
      "Epoch 16: early stopping\n",
      "\u001b[1m1/1\u001b[0m \u001b[32m━━━━━━━━━━━━━━━━━━━━\u001b[0m\u001b[37m\u001b[0m \u001b[1m1s\u001b[0m 634ms/step\n",
      "Epoch 22: early stopping\n",
      "\u001b[1m1/1\u001b[0m \u001b[32m━━━━━━━━━━━━━━━━━━━━\u001b[0m\u001b[37m\u001b[0m \u001b[1m1s\u001b[0m 666ms/step\n",
      "Epoch 30: early stopping\n",
      "\u001b[1m1/1\u001b[0m \u001b[32m━━━━━━━━━━━━━━━━━━━━\u001b[0m\u001b[37m\u001b[0m \u001b[1m1s\u001b[0m 618ms/step\n",
      "Epoch 31: early stopping\n",
      "\u001b[1m1/1\u001b[0m \u001b[32m━━━━━━━━━━━━━━━━━━━━\u001b[0m\u001b[37m\u001b[0m \u001b[1m1s\u001b[0m 627ms/step\n",
      "**************************************************\n",
      "Best Parameters for 5 minutes interval {'n_features': 4, 'patience': 25}\n",
      "Best RMSE for 5 minutes interval 0.07078713155509499\n",
      "**************************************************\n"
     ]
    },
    {
     "data": {
      "text/plain": [
       "array([100.78081 , 100.19791 , 100.10862 , 100.54583 , 101.253044,\n",
       "       101.96312 , 101.98084 , 101.326065, 102.95834 , 102.546074,\n",
       "        98.22099 ,  92.89506 ,  91.67165 ,  96.57187 , 101.68358 ,\n",
       "       102.931656, 103.86615 , 105.17653 , 104.01097 ], dtype=float32)"
      ]
     },
     "execution_count": 44,
     "metadata": {},
     "output_type": "execute_result"
    }
   ],
   "source": [
    "for n in n_features_lst:\n",
    "    for pat in patience_lst:\n",
    "        X, y = prepare_data(time_series_5, n)\n",
    "        X = X.reshape((X.shape[0], X.shape[1], 1))\n",
    "\n",
    "        test_size = 18\n",
    "        train_size = X.shape[0] + (n - 5) - test_size\n",
    "\n",
    "        X_train, y_train = X[:train_size], y[:train_size]\n",
    "        X_test, y_test = X[train_size:], y[train_size:]\n",
    "\n",
    "        model = Sequential()\n",
    "        model.add(LSTM(50, activation='relu', input_shape=(n, 1)))\n",
    "        model.add(Dense(1))\n",
    "        model.compile(optimizer='adam', loss='mse')\n",
    "        \n",
    "        es = EarlyStopping(monitor='val_loss', verbose=1, patience=pat)\n",
    "        \n",
    "        model.fit(X_train, y_train, epochs=300, validation_data=(X_test, y_test), callbacks=[es], verbose=0)\n",
    "\n",
    "        prediction_5 = model.predict(X_test)\n",
    "\n",
    "        rmse = np.sqrt(mean_squared_error(y_test, prediction_5))\n",
    "        if rmse < best_rmse_5:\n",
    "            best_rmse_5 = rmse\n",
    "            best_param_5['n_features'] = n\n",
    "            best_param_5['patience'] = pat\n",
    "            best_predictions_5 = prediction_5\n",
    "            best_model_5 = model\n",
    "\n",
    "print('*'*50)\n",
    "print(\"Best Parameters for 5 minutes interval\", best_param_5)\n",
    "print(\"Best RMSE for 5 minutes interval\", best_rmse_5)\n",
    "print('*'*50)\n",
    "\n",
    "predictions_5_orig = scaler.inverse_transform(best_predictions_5)\n",
    "predictions_5_orig.flatten()"
   ]
  },
  {
   "cell_type": "code",
   "execution_count": 46,
   "metadata": {},
   "outputs": [
    {
     "data": {
      "text/plain": [
       "array([100.75      ,  99.78409091, 100.75      , 100.75      ,\n",
       "       101.71590909, 101.23295455, 100.75      , 103.64772727,\n",
       "       100.75      ,  96.88636364,  92.05681818,  92.05681818,\n",
       "        98.81818182, 100.75      , 101.71590909, 103.64772727,\n",
       "       104.61363636, 102.68181818, 107.51136364])"
      ]
     },
     "execution_count": 46,
     "metadata": {},
     "output_type": "execute_result"
    }
   ],
   "source": [
    "actual_values_5 = df_5['reading'].values[-predictions_5_orig.shape[0]:]\n",
    "actual_values_5 = actual_values_5.reshape(-1, 1)\n",
    "org_actual_5 = scaler.inverse_transform(actual_values_5)\n",
    "org_actual_5.flatten()"
   ]
  },
  {
   "cell_type": "code",
   "execution_count": 50,
   "metadata": {},
   "outputs": [
    {
     "data": {
      "text/html": [
       "<div>\n",
       "<style scoped>\n",
       "    .dataframe tbody tr th:only-of-type {\n",
       "        vertical-align: middle;\n",
       "    }\n",
       "\n",
       "    .dataframe tbody tr th {\n",
       "        vertical-align: top;\n",
       "    }\n",
       "\n",
       "    .dataframe thead th {\n",
       "        text-align: right;\n",
       "    }\n",
       "</style>\n",
       "<table border=\"1\" class=\"dataframe\">\n",
       "  <thead>\n",
       "    <tr style=\"text-align: right;\">\n",
       "      <th></th>\n",
       "      <th>Actual</th>\n",
       "      <th>Predicted</th>\n",
       "    </tr>\n",
       "    <tr>\n",
       "      <th>Glucose_time</th>\n",
       "      <th></th>\n",
       "      <th></th>\n",
       "    </tr>\n",
       "  </thead>\n",
       "  <tbody>\n",
       "    <tr>\n",
       "      <th>2023-03-05 22:25:00</th>\n",
       "      <td>100.750000</td>\n",
       "      <td>100.780807</td>\n",
       "    </tr>\n",
       "    <tr>\n",
       "      <th>2023-03-05 22:30:00</th>\n",
       "      <td>99.784091</td>\n",
       "      <td>100.197906</td>\n",
       "    </tr>\n",
       "    <tr>\n",
       "      <th>2023-03-05 22:35:00</th>\n",
       "      <td>100.750000</td>\n",
       "      <td>100.108620</td>\n",
       "    </tr>\n",
       "    <tr>\n",
       "      <th>2023-03-05 22:40:00</th>\n",
       "      <td>100.750000</td>\n",
       "      <td>100.545830</td>\n",
       "    </tr>\n",
       "    <tr>\n",
       "      <th>2023-03-05 22:45:00</th>\n",
       "      <td>101.715909</td>\n",
       "      <td>101.253044</td>\n",
       "    </tr>\n",
       "    <tr>\n",
       "      <th>2023-03-05 22:50:00</th>\n",
       "      <td>101.232955</td>\n",
       "      <td>101.963120</td>\n",
       "    </tr>\n",
       "    <tr>\n",
       "      <th>2023-03-05 22:55:00</th>\n",
       "      <td>100.750000</td>\n",
       "      <td>101.980843</td>\n",
       "    </tr>\n",
       "    <tr>\n",
       "      <th>2023-03-05 23:00:00</th>\n",
       "      <td>103.647727</td>\n",
       "      <td>101.326065</td>\n",
       "    </tr>\n",
       "    <tr>\n",
       "      <th>2023-03-05 23:05:00</th>\n",
       "      <td>100.750000</td>\n",
       "      <td>102.958344</td>\n",
       "    </tr>\n",
       "    <tr>\n",
       "      <th>2023-03-05 23:10:00</th>\n",
       "      <td>96.886364</td>\n",
       "      <td>102.546074</td>\n",
       "    </tr>\n",
       "    <tr>\n",
       "      <th>2023-03-05 23:15:00</th>\n",
       "      <td>92.056818</td>\n",
       "      <td>98.220993</td>\n",
       "    </tr>\n",
       "    <tr>\n",
       "      <th>2023-03-05 23:20:00</th>\n",
       "      <td>92.056818</td>\n",
       "      <td>92.895058</td>\n",
       "    </tr>\n",
       "    <tr>\n",
       "      <th>2023-03-05 23:25:00</th>\n",
       "      <td>98.818182</td>\n",
       "      <td>91.671654</td>\n",
       "    </tr>\n",
       "    <tr>\n",
       "      <th>2023-03-05 23:30:00</th>\n",
       "      <td>100.750000</td>\n",
       "      <td>96.571869</td>\n",
       "    </tr>\n",
       "    <tr>\n",
       "      <th>2023-03-05 23:35:00</th>\n",
       "      <td>101.715909</td>\n",
       "      <td>101.683578</td>\n",
       "    </tr>\n",
       "    <tr>\n",
       "      <th>2023-03-05 23:40:00</th>\n",
       "      <td>103.647727</td>\n",
       "      <td>102.931656</td>\n",
       "    </tr>\n",
       "    <tr>\n",
       "      <th>2023-03-05 23:45:00</th>\n",
       "      <td>104.613636</td>\n",
       "      <td>103.866150</td>\n",
       "    </tr>\n",
       "    <tr>\n",
       "      <th>2023-03-05 23:50:00</th>\n",
       "      <td>102.681818</td>\n",
       "      <td>105.176529</td>\n",
       "    </tr>\n",
       "    <tr>\n",
       "      <th>2023-03-05 23:55:00</th>\n",
       "      <td>107.511364</td>\n",
       "      <td>104.010971</td>\n",
       "    </tr>\n",
       "  </tbody>\n",
       "</table>\n",
       "</div>"
      ],
      "text/plain": [
       "                         Actual   Predicted\n",
       "Glucose_time                               \n",
       "2023-03-05 22:25:00  100.750000  100.780807\n",
       "2023-03-05 22:30:00   99.784091  100.197906\n",
       "2023-03-05 22:35:00  100.750000  100.108620\n",
       "2023-03-05 22:40:00  100.750000  100.545830\n",
       "2023-03-05 22:45:00  101.715909  101.253044\n",
       "2023-03-05 22:50:00  101.232955  101.963120\n",
       "2023-03-05 22:55:00  100.750000  101.980843\n",
       "2023-03-05 23:00:00  103.647727  101.326065\n",
       "2023-03-05 23:05:00  100.750000  102.958344\n",
       "2023-03-05 23:10:00   96.886364  102.546074\n",
       "2023-03-05 23:15:00   92.056818   98.220993\n",
       "2023-03-05 23:20:00   92.056818   92.895058\n",
       "2023-03-05 23:25:00   98.818182   91.671654\n",
       "2023-03-05 23:30:00  100.750000   96.571869\n",
       "2023-03-05 23:35:00  101.715909  101.683578\n",
       "2023-03-05 23:40:00  103.647727  102.931656\n",
       "2023-03-05 23:45:00  104.613636  103.866150\n",
       "2023-03-05 23:50:00  102.681818  105.176529\n",
       "2023-03-05 23:55:00  107.511364  104.010971"
      ]
     },
     "execution_count": 50,
     "metadata": {},
     "output_type": "execute_result"
    }
   ],
   "source": [
    "final_df_5 = pd.DataFrame({'Actual': org_actual_5.flatten(), 'Predicted': predictions_5_orig.flatten()})\n",
    "\n",
    "final_df_5['Glucose_time'] = df_5.index[-predictions_5_orig.shape[0]:]\n",
    "final_df_5.set_index('Glucose_time', inplace=True)\n",
    "\n",
    "final_df_5"
   ]
  },
  {
   "cell_type": "markdown",
   "metadata": {},
   "source": [
    "#### <center>LSTM MODEL AND PREDICTIONS ON TEST DATA FOR 10 MIN INTERVAL</center>"
   ]
  },
  {
   "cell_type": "code",
   "execution_count": 57,
   "metadata": {},
   "outputs": [
    {
     "name": "stdout",
     "output_type": "stream",
     "text": [
      "Trains Size (128, 4, 1) (128,)\n",
      "Test Size (12, 4, 1) (12,)\n",
      "Epoch 16: early stopping\n",
      "\u001b[1m1/1\u001b[0m \u001b[32m━━━━━━━━━━━━━━━━━━━━\u001b[0m\u001b[37m\u001b[0m \u001b[1m1s\u001b[0m 671ms/step\n",
      "Trains Size (128, 4, 1) (128,)\n",
      "Test Size (12, 4, 1) (12,)\n",
      "Epoch 25: early stopping\n",
      "\u001b[1m1/1\u001b[0m \u001b[32m━━━━━━━━━━━━━━━━━━━━\u001b[0m\u001b[37m\u001b[0m \u001b[1m1s\u001b[0m 679ms/step\n",
      "Trains Size (128, 4, 1) (128,)\n",
      "Test Size (12, 4, 1) (12,)\n",
      "Epoch 33: early stopping\n",
      "\u001b[1m1/1\u001b[0m \u001b[32m━━━━━━━━━━━━━━━━━━━━\u001b[0m\u001b[37m\u001b[0m \u001b[1m1s\u001b[0m 664ms/step\n",
      "Trains Size (128, 4, 1) (128,)\n",
      "Test Size (12, 4, 1) (12,)\n",
      "Epoch 31: early stopping\n",
      "\u001b[1m1/1\u001b[0m \u001b[32m━━━━━━━━━━━━━━━━━━━━\u001b[0m\u001b[37m\u001b[0m \u001b[1m1s\u001b[0m 634ms/step\n",
      "Trains Size (128, 4, 1) (128,)\n",
      "Test Size (12, 4, 1) (12,)\n",
      "Epoch 41: early stopping\n",
      "\u001b[1m1/1\u001b[0m \u001b[32m━━━━━━━━━━━━━━━━━━━━\u001b[0m\u001b[37m\u001b[0m \u001b[1m1s\u001b[0m 666ms/step\n",
      "Trains Size (128, 5, 1) (128,)\n",
      "Test Size (11, 5, 1) (11,)\n",
      "Epoch 22: early stopping\n",
      "\u001b[1m1/1\u001b[0m \u001b[32m━━━━━━━━━━━━━━━━━━━━\u001b[0m\u001b[37m\u001b[0m \u001b[1m1s\u001b[0m 633ms/step\n",
      "Trains Size (128, 5, 1) (128,)\n",
      "Test Size (11, 5, 1) (11,)\n",
      "Epoch 28: early stopping\n",
      "\u001b[1m1/1\u001b[0m \u001b[32m━━━━━━━━━━━━━━━━━━━━\u001b[0m\u001b[37m\u001b[0m \u001b[1m1s\u001b[0m 650ms/step\n",
      "Trains Size (128, 5, 1) (128,)\n",
      "Test Size (11, 5, 1) (11,)\n",
      "Epoch 31: early stopping\n",
      "\u001b[1m1/1\u001b[0m \u001b[32m━━━━━━━━━━━━━━━━━━━━\u001b[0m\u001b[37m\u001b[0m \u001b[1m1s\u001b[0m 680ms/step\n",
      "Trains Size (128, 5, 1) (128,)\n",
      "Test Size (11, 5, 1) (11,)\n",
      "Epoch 37: early stopping\n",
      "\u001b[1m1/1\u001b[0m \u001b[32m━━━━━━━━━━━━━━━━━━━━\u001b[0m\u001b[37m\u001b[0m \u001b[1m1s\u001b[0m 548ms/step\n",
      "Trains Size (128, 5, 1) (128,)\n",
      "Test Size (11, 5, 1) (11,)\n",
      "Epoch 40: early stopping\n",
      "\u001b[1m1/1\u001b[0m \u001b[32m━━━━━━━━━━━━━━━━━━━━\u001b[0m\u001b[37m\u001b[0m \u001b[1m1s\u001b[0m 650ms/step\n",
      "Trains Size (128, 6, 1) (128,)\n",
      "Test Size (10, 6, 1) (10,)\n",
      "Epoch 16: early stopping\n",
      "\u001b[1m1/1\u001b[0m \u001b[32m━━━━━━━━━━━━━━━━━━━━\u001b[0m\u001b[37m\u001b[0m \u001b[1m1s\u001b[0m 681ms/step\n",
      "Trains Size (128, 6, 1) (128,)\n",
      "Test Size (10, 6, 1) (10,)\n",
      "Epoch 28: early stopping\n",
      "\u001b[1m1/1\u001b[0m \u001b[32m━━━━━━━━━━━━━━━━━━━━\u001b[0m\u001b[37m\u001b[0m \u001b[1m1s\u001b[0m 640ms/step\n",
      "Trains Size (128, 6, 1) (128,)\n",
      "Test Size (10, 6, 1) (10,)\n",
      "Epoch 32: early stopping\n",
      "\u001b[1m1/1\u001b[0m \u001b[32m━━━━━━━━━━━━━━━━━━━━\u001b[0m\u001b[37m\u001b[0m \u001b[1m1s\u001b[0m 666ms/step\n",
      "Trains Size (128, 6, 1) (128,)\n",
      "Test Size (10, 6, 1) (10,)\n",
      "Epoch 36: early stopping\n",
      "\u001b[1m1/1\u001b[0m \u001b[32m━━━━━━━━━━━━━━━━━━━━\u001b[0m\u001b[37m\u001b[0m \u001b[1m1s\u001b[0m 666ms/step\n",
      "Trains Size (128, 6, 1) (128,)\n",
      "Test Size (10, 6, 1) (10,)\n",
      "Epoch 38: early stopping\n",
      "\u001b[1m1/1\u001b[0m \u001b[32m━━━━━━━━━━━━━━━━━━━━\u001b[0m\u001b[37m\u001b[0m \u001b[1m1s\u001b[0m 634ms/step\n",
      "Trains Size (128, 8, 1) (128,)\n",
      "Test Size (8, 8, 1) (8,)\n",
      "Epoch 53: early stopping\n",
      "\u001b[1m1/1\u001b[0m \u001b[32m━━━━━━━━━━━━━━━━━━━━\u001b[0m\u001b[37m\u001b[0m \u001b[1m1s\u001b[0m 658ms/step\n",
      "Trains Size (128, 8, 1) (128,)\n",
      "Test Size (8, 8, 1) (8,)\n",
      "Epoch 43: early stopping\n",
      "\u001b[1m1/1\u001b[0m \u001b[32m━━━━━━━━━━━━━━━━━━━━\u001b[0m\u001b[37m\u001b[0m \u001b[1m0s\u001b[0m 410ms/step\n",
      "Trains Size (128, 8, 1) (128,)\n",
      "Test Size (8, 8, 1) (8,)\n",
      "Epoch 60: early stopping\n",
      "\u001b[1m1/1\u001b[0m \u001b[32m━━━━━━━━━━━━━━━━━━━━\u001b[0m\u001b[37m\u001b[0m \u001b[1m1s\u001b[0m 666ms/step\n",
      "Trains Size (128, 8, 1) (128,)\n",
      "Test Size (8, 8, 1) (8,)\n",
      "Epoch 53: early stopping\n",
      "\u001b[1m1/1\u001b[0m \u001b[32m━━━━━━━━━━━━━━━━━━━━\u001b[0m\u001b[37m\u001b[0m \u001b[1m1s\u001b[0m 612ms/step\n",
      "Trains Size (128, 8, 1) (128,)\n",
      "Test Size (8, 8, 1) (8,)\n",
      "Epoch 69: early stopping\n",
      "\u001b[1m1/1\u001b[0m \u001b[32m━━━━━━━━━━━━━━━━━━━━\u001b[0m\u001b[37m\u001b[0m \u001b[1m1s\u001b[0m 618ms/step\n",
      "Trains Size (128, 10, 1) (128,)\n",
      "Test Size (6, 10, 1) (6,)\n",
      "Epoch 25: early stopping\n",
      "\u001b[1m1/1\u001b[0m \u001b[32m━━━━━━━━━━━━━━━━━━━━\u001b[0m\u001b[37m\u001b[0m \u001b[1m1s\u001b[0m 609ms/step\n",
      "Trains Size (128, 10, 1) (128,)\n",
      "Test Size (6, 10, 1) (6,)\n",
      "Epoch 17: early stopping\n",
      "\u001b[1m1/1\u001b[0m \u001b[32m━━━━━━━━━━━━━━━━━━━━\u001b[0m\u001b[37m\u001b[0m \u001b[1m1s\u001b[0m 805ms/step\n",
      "Trains Size (128, 10, 1) (128,)\n",
      "Test Size (6, 10, 1) (6,)\n",
      "Epoch 22: early stopping\n",
      "\u001b[1m1/1\u001b[0m \u001b[32m━━━━━━━━━━━━━━━━━━━━\u001b[0m\u001b[37m\u001b[0m \u001b[1m0s\u001b[0m 441ms/step\n",
      "Trains Size (128, 10, 1) (128,)\n",
      "Test Size (6, 10, 1) (6,)\n",
      "Epoch 29: early stopping\n",
      "\u001b[1m1/1\u001b[0m \u001b[32m━━━━━━━━━━━━━━━━━━━━\u001b[0m\u001b[37m\u001b[0m \u001b[1m1s\u001b[0m 526ms/step\n",
      "Trains Size (128, 10, 1) (128,)\n",
      "Test Size (6, 10, 1) (6,)\n",
      "Epoch 41: early stopping\n",
      "\u001b[1m1/1\u001b[0m \u001b[32m━━━━━━━━━━━━━━━━━━━━\u001b[0m\u001b[37m\u001b[0m \u001b[1m1s\u001b[0m 660ms/step\n",
      "**************************************************\n",
      "Best Parameters for 10 minutes interval {'n_features': 6, 'patience': 5}\n",
      "Best RMSE for 5 minutes interval 0.08220808267753102\n",
      "**************************************************\n"
     ]
    },
    {
     "data": {
      "text/plain": [
       "array([100.76771 , 100.94259 , 101.13295 , 101.50264 , 100.97031 ,\n",
       "       100.51725 ,  99.49766 ,  98.919525,  99.01278 ,  99.2615  ],\n",
       "      dtype=float32)"
      ]
     },
     "execution_count": 57,
     "metadata": {},
     "output_type": "execute_result"
    }
   ],
   "source": [
    "for n in n_features_lst:\n",
    "    for pat in patience_lst:\n",
    "        X, y = prepare_data(time_series_10, n)\n",
    "        X = X.reshape((X.shape[0], X.shape[1], 1))\n",
    "\n",
    "        test_size = 11\n",
    "        train_size = X.shape[0] + (n - 5) - test_size\n",
    "\n",
    "        X_train, y_train = X[:train_size], y[:train_size]\n",
    "        X_test, y_test = X[train_size:], y[train_size:]\n",
    "\n",
    "        print(\"Trains Size\", X_train.shape, y_train.shape)\n",
    "        print(\"Test Size\", X_test.shape, y_test.shape)\n",
    "\n",
    "        model = Sequential()\n",
    "        model.add(LSTM(50, activation='relu', input_shape=(n, 1)))\n",
    "        model.add(Dense(1))\n",
    "        model.compile(optimizer='adam', loss='mse')\n",
    "        \n",
    "        es = EarlyStopping(monitor='val_loss', verbose=1, patience=pat)\n",
    "        \n",
    "        model.fit(X_train, y_train, epochs=300, validation_data=(X_test, y_test), callbacks=[es], verbose=0)\n",
    "\n",
    "        prediction_10 = model.predict(X_test)\n",
    "        rmse = np.sqrt(mean_squared_error(y_test, prediction_10))\n",
    "\n",
    "        if rmse < best_rmse_10:\n",
    "            best_rmse_10 = rmse\n",
    "            best_param_10['n_features'] = n\n",
    "            best_param_10['patience'] = pat\n",
    "            best_predictions_10 = prediction_10\n",
    "            best_model_10 = model\n",
    "\n",
    "print('*'*50)\n",
    "print(\"Best Parameters for 10 minutes interval\", best_param_10)\n",
    "print(\"Best RMSE for 5 minutes interval\", best_rmse_10)\n",
    "print('*'*50)\n",
    "\n",
    "predictions_10_orig = scaler.inverse_transform(best_predictions_10)\n",
    "predictions_10_orig.flatten()"
   ]
  },
  {
   "cell_type": "code",
   "execution_count": 58,
   "metadata": {},
   "outputs": [
    {
     "data": {
      "text/plain": [
       "array([101.71590909, 100.26704545, 101.23295455, 100.75      ,\n",
       "       102.19886364,  94.47159091,  95.4375    , 101.23295455,\n",
       "       104.13068182, 105.09659091])"
      ]
     },
     "execution_count": 58,
     "metadata": {},
     "output_type": "execute_result"
    }
   ],
   "source": [
    "actual_values_10 = df_10['reading'].values[-predictions_10_orig.shape[0]:]\n",
    "actual_values_10 = actual_values_10.reshape(-1, 1)\n",
    "org_actual_10 = scaler.inverse_transform(actual_values_10)\n",
    "org_actual_10.flatten()"
   ]
  },
  {
   "cell_type": "code",
   "execution_count": 59,
   "metadata": {},
   "outputs": [
    {
     "data": {
      "text/html": [
       "<div>\n",
       "<style scoped>\n",
       "    .dataframe tbody tr th:only-of-type {\n",
       "        vertical-align: middle;\n",
       "    }\n",
       "\n",
       "    .dataframe tbody tr th {\n",
       "        vertical-align: top;\n",
       "    }\n",
       "\n",
       "    .dataframe thead th {\n",
       "        text-align: right;\n",
       "    }\n",
       "</style>\n",
       "<table border=\"1\" class=\"dataframe\">\n",
       "  <thead>\n",
       "    <tr style=\"text-align: right;\">\n",
       "      <th></th>\n",
       "      <th>Actual</th>\n",
       "      <th>Predicted</th>\n",
       "    </tr>\n",
       "    <tr>\n",
       "      <th>Glucose_time</th>\n",
       "      <th></th>\n",
       "      <th></th>\n",
       "    </tr>\n",
       "  </thead>\n",
       "  <tbody>\n",
       "    <tr>\n",
       "      <th>2023-03-05 22:20:00</th>\n",
       "      <td>101.715909</td>\n",
       "      <td>100.767708</td>\n",
       "    </tr>\n",
       "    <tr>\n",
       "      <th>2023-03-05 22:30:00</th>\n",
       "      <td>100.267045</td>\n",
       "      <td>100.942589</td>\n",
       "    </tr>\n",
       "    <tr>\n",
       "      <th>2023-03-05 22:40:00</th>\n",
       "      <td>101.232955</td>\n",
       "      <td>101.132950</td>\n",
       "    </tr>\n",
       "    <tr>\n",
       "      <th>2023-03-05 22:50:00</th>\n",
       "      <td>100.750000</td>\n",
       "      <td>101.502640</td>\n",
       "    </tr>\n",
       "    <tr>\n",
       "      <th>2023-03-05 23:00:00</th>\n",
       "      <td>102.198864</td>\n",
       "      <td>100.970306</td>\n",
       "    </tr>\n",
       "    <tr>\n",
       "      <th>2023-03-05 23:10:00</th>\n",
       "      <td>94.471591</td>\n",
       "      <td>100.517250</td>\n",
       "    </tr>\n",
       "    <tr>\n",
       "      <th>2023-03-05 23:20:00</th>\n",
       "      <td>95.437500</td>\n",
       "      <td>99.497658</td>\n",
       "    </tr>\n",
       "    <tr>\n",
       "      <th>2023-03-05 23:30:00</th>\n",
       "      <td>101.232955</td>\n",
       "      <td>98.919525</td>\n",
       "    </tr>\n",
       "    <tr>\n",
       "      <th>2023-03-05 23:40:00</th>\n",
       "      <td>104.130682</td>\n",
       "      <td>99.012779</td>\n",
       "    </tr>\n",
       "    <tr>\n",
       "      <th>2023-03-05 23:50:00</th>\n",
       "      <td>105.096591</td>\n",
       "      <td>99.261497</td>\n",
       "    </tr>\n",
       "  </tbody>\n",
       "</table>\n",
       "</div>"
      ],
      "text/plain": [
       "                         Actual   Predicted\n",
       "Glucose_time                               \n",
       "2023-03-05 22:20:00  101.715909  100.767708\n",
       "2023-03-05 22:30:00  100.267045  100.942589\n",
       "2023-03-05 22:40:00  101.232955  101.132950\n",
       "2023-03-05 22:50:00  100.750000  101.502640\n",
       "2023-03-05 23:00:00  102.198864  100.970306\n",
       "2023-03-05 23:10:00   94.471591  100.517250\n",
       "2023-03-05 23:20:00   95.437500   99.497658\n",
       "2023-03-05 23:30:00  101.232955   98.919525\n",
       "2023-03-05 23:40:00  104.130682   99.012779\n",
       "2023-03-05 23:50:00  105.096591   99.261497"
      ]
     },
     "execution_count": 59,
     "metadata": {},
     "output_type": "execute_result"
    }
   ],
   "source": [
    "final_df_10 = pd.DataFrame({'Actual': org_actual_10.flatten(), 'Predicted': predictions_10_orig.flatten()})\n",
    "\n",
    "final_df_10['Glucose_time'] = df_10.index[-predictions_10_orig.shape[0]:]\n",
    "final_df_10.set_index('Glucose_time', inplace=True)\n",
    "\n",
    "final_df_10"
   ]
  },
  {
   "cell_type": "markdown",
   "metadata": {},
   "source": [
    "#### <center>LSTM MODEL AND PREDICTIONS ON TEST DATA FOR 15 MIN INTERVAL</center>"
   ]
  },
  {
   "cell_type": "code",
   "execution_count": 60,
   "metadata": {},
   "outputs": [
    {
     "name": "stdout",
     "output_type": "stream",
     "text": [
      "Trains Size (84, 4, 1) (84,)\n",
      "Test Size (8, 4, 1) (8,)\n",
      "Epoch 19: early stopping\n",
      "\u001b[1m1/1\u001b[0m \u001b[32m━━━━━━━━━━━━━━━━━━━━\u001b[0m\u001b[37m\u001b[0m \u001b[1m1s\u001b[0m 730ms/step\n",
      "Trains Size (84, 4, 1) (84,)\n",
      "Test Size (8, 4, 1) (8,)\n",
      "Epoch 40: early stopping\n",
      "\u001b[1m1/1\u001b[0m \u001b[32m━━━━━━━━━━━━━━━━━━━━\u001b[0m\u001b[37m\u001b[0m \u001b[1m1s\u001b[0m 740ms/step\n",
      "Trains Size (84, 4, 1) (84,)\n",
      "Test Size (8, 4, 1) (8,)\n",
      "Epoch 33: early stopping\n",
      "\u001b[1m1/1\u001b[0m \u001b[32m━━━━━━━━━━━━━━━━━━━━\u001b[0m\u001b[37m\u001b[0m \u001b[1m1s\u001b[0m 680ms/step\n",
      "Trains Size (84, 4, 1) (84,)\n",
      "Test Size (8, 4, 1) (8,)\n",
      "Epoch 42: early stopping\n",
      "\u001b[1m1/1\u001b[0m \u001b[32m━━━━━━━━━━━━━━━━━━━━\u001b[0m\u001b[37m\u001b[0m \u001b[1m0s\u001b[0m 408ms/step\n",
      "Trains Size (84, 4, 1) (84,)\n",
      "Test Size (8, 4, 1) (8,)\n",
      "Epoch 46: early stopping\n",
      "\u001b[1m1/1\u001b[0m \u001b[32m━━━━━━━━━━━━━━━━━━━━\u001b[0m\u001b[37m\u001b[0m \u001b[1m1s\u001b[0m 673ms/step\n",
      "Trains Size (84, 5, 1) (84,)\n",
      "Test Size (7, 5, 1) (7,)\n",
      "Epoch 19: early stopping\n",
      "\u001b[1m1/1\u001b[0m \u001b[32m━━━━━━━━━━━━━━━━━━━━\u001b[0m\u001b[37m\u001b[0m \u001b[1m1s\u001b[0m 708ms/step\n",
      "Trains Size (84, 5, 1) (84,)\n",
      "Test Size (7, 5, 1) (7,)\n",
      "Epoch 37: early stopping\n",
      "\u001b[1m1/1\u001b[0m \u001b[32m━━━━━━━━━━━━━━━━━━━━\u001b[0m\u001b[37m\u001b[0m \u001b[1m1s\u001b[0m 688ms/step\n",
      "Trains Size (84, 5, 1) (84,)\n",
      "Test Size (7, 5, 1) (7,)\n",
      "Epoch 38: early stopping\n",
      "\u001b[1m1/1\u001b[0m \u001b[32m━━━━━━━━━━━━━━━━━━━━\u001b[0m\u001b[37m\u001b[0m \u001b[1m1s\u001b[0m 672ms/step\n",
      "Trains Size (84, 5, 1) (84,)\n",
      "Test Size (7, 5, 1) (7,)\n",
      "Epoch 79: early stopping\n",
      "\u001b[1m1/1\u001b[0m \u001b[32m━━━━━━━━━━━━━━━━━━━━\u001b[0m\u001b[37m\u001b[0m \u001b[1m1s\u001b[0m 692ms/step\n",
      "Trains Size (84, 5, 1) (84,)\n",
      "Test Size (7, 5, 1) (7,)\n",
      "Epoch 85: early stopping\n",
      "\u001b[1m1/1\u001b[0m \u001b[32m━━━━━━━━━━━━━━━━━━━━\u001b[0m\u001b[37m\u001b[0m \u001b[1m1s\u001b[0m 698ms/step\n",
      "Trains Size (84, 6, 1) (84,)\n",
      "Test Size (6, 6, 1) (6,)\n",
      "Epoch 18: early stopping\n",
      "\u001b[1m1/1\u001b[0m \u001b[32m━━━━━━━━━━━━━━━━━━━━\u001b[0m\u001b[37m\u001b[0m \u001b[1m1s\u001b[0m 818ms/step\n",
      "Trains Size (84, 6, 1) (84,)\n",
      "Test Size (6, 6, 1) (6,)\n",
      "Epoch 28: early stopping\n",
      "\u001b[1m1/1\u001b[0m \u001b[32m━━━━━━━━━━━━━━━━━━━━\u001b[0m\u001b[37m\u001b[0m \u001b[1m1s\u001b[0m 672ms/step\n",
      "Trains Size (84, 6, 1) (84,)\n",
      "Test Size (6, 6, 1) (6,)\n",
      "Epoch 29: early stopping\n",
      "\u001b[1m1/1\u001b[0m \u001b[32m━━━━━━━━━━━━━━━━━━━━\u001b[0m\u001b[37m\u001b[0m \u001b[1m1s\u001b[0m 675ms/step\n",
      "Trains Size (84, 6, 1) (84,)\n",
      "Test Size (6, 6, 1) (6,)\n",
      "Epoch 42: early stopping\n",
      "\u001b[1m1/1\u001b[0m \u001b[32m━━━━━━━━━━━━━━━━━━━━\u001b[0m\u001b[37m\u001b[0m \u001b[1m1s\u001b[0m 685ms/step\n",
      "Trains Size (84, 6, 1) (84,)\n",
      "Test Size (6, 6, 1) (6,)\n",
      "Epoch 45: early stopping\n",
      "\u001b[1m1/1\u001b[0m \u001b[32m━━━━━━━━━━━━━━━━━━━━\u001b[0m\u001b[37m\u001b[0m \u001b[1m1s\u001b[0m 673ms/step\n",
      "Trains Size (84, 8, 1) (84,)\n",
      "Test Size (4, 8, 1) (4,)\n",
      "Epoch 23: early stopping\n",
      "\u001b[1m1/1\u001b[0m \u001b[32m━━━━━━━━━━━━━━━━━━━━\u001b[0m\u001b[37m\u001b[0m \u001b[1m1s\u001b[0m 672ms/step\n",
      "Trains Size (84, 8, 1) (84,)\n",
      "Test Size (4, 8, 1) (4,)\n",
      "Epoch 28: early stopping\n",
      "\u001b[1m1/1\u001b[0m \u001b[32m━━━━━━━━━━━━━━━━━━━━\u001b[0m\u001b[37m\u001b[0m \u001b[1m1s\u001b[0m 673ms/step\n",
      "Trains Size (84, 8, 1) (84,)\n",
      "Test Size (4, 8, 1) (4,)\n",
      "Epoch 28: early stopping\n",
      "\u001b[1m1/1\u001b[0m \u001b[32m━━━━━━━━━━━━━━━━━━━━\u001b[0m\u001b[37m\u001b[0m \u001b[1m1s\u001b[0m 681ms/step\n",
      "Trains Size (84, 8, 1) (84,)\n",
      "Test Size (4, 8, 1) (4,)\n",
      "Epoch 31: early stopping\n",
      "\u001b[1m1/1\u001b[0m \u001b[32m━━━━━━━━━━━━━━━━━━━━\u001b[0m\u001b[37m\u001b[0m \u001b[1m1s\u001b[0m 708ms/step\n",
      "Trains Size (84, 8, 1) (84,)\n",
      "Test Size (4, 8, 1) (4,)\n",
      "Epoch 38: early stopping\n",
      "\u001b[1m1/1\u001b[0m \u001b[32m━━━━━━━━━━━━━━━━━━━━\u001b[0m\u001b[37m\u001b[0m \u001b[1m1s\u001b[0m 699ms/step\n",
      "Trains Size (84, 10, 1) (84,)\n",
      "Test Size (2, 10, 1) (2,)\n",
      "Epoch 15: early stopping\n",
      "\u001b[1m1/1\u001b[0m \u001b[32m━━━━━━━━━━━━━━━━━━━━\u001b[0m\u001b[37m\u001b[0m \u001b[1m1s\u001b[0m 678ms/step\n",
      "Trains Size (84, 10, 1) (84,)\n",
      "Test Size (2, 10, 1) (2,)\n",
      "Epoch 21: early stopping\n",
      "\u001b[1m1/1\u001b[0m \u001b[32m━━━━━━━━━━━━━━━━━━━━\u001b[0m\u001b[37m\u001b[0m \u001b[1m1s\u001b[0m 681ms/step\n",
      "Trains Size (84, 10, 1) (84,)\n",
      "Test Size (2, 10, 1) (2,)\n",
      "Epoch 29: early stopping\n",
      "\u001b[1m1/1\u001b[0m \u001b[32m━━━━━━━━━━━━━━━━━━━━\u001b[0m\u001b[37m\u001b[0m \u001b[1m1s\u001b[0m 683ms/step\n",
      "Trains Size (84, 10, 1) (84,)\n",
      "Test Size (2, 10, 1) (2,)\n",
      "Epoch 34: early stopping\n",
      "\u001b[1m1/1\u001b[0m \u001b[32m━━━━━━━━━━━━━━━━━━━━\u001b[0m\u001b[37m\u001b[0m \u001b[1m1s\u001b[0m 668ms/step\n",
      "Trains Size (84, 10, 1) (84,)\n",
      "Test Size (2, 10, 1) (2,)\n",
      "Epoch 36: early stopping\n",
      "\u001b[1m1/1\u001b[0m \u001b[32m━━━━━━━━━━━━━━━━━━━━\u001b[0m\u001b[37m\u001b[0m \u001b[1m1s\u001b[0m 682ms/step\n",
      "**************************************************\n",
      "Best Parameters for 15 minutes interval {'n_features': 10, 'patience': 25}\n",
      "Best RMSE for 15 minutes interval inf\n",
      "**************************************************\n"
     ]
    },
    {
     "data": {
      "text/plain": [
       "array([100.376144, 100.67583 ], dtype=float32)"
      ]
     },
     "execution_count": 60,
     "metadata": {},
     "output_type": "execute_result"
    }
   ],
   "source": [
    "for n in n_features_lst:\n",
    "    for pat in patience_lst:\n",
    "        X, y = prepare_data(time_series_15, n)\n",
    "        X = X.reshape((X.shape[0], X.shape[1], 1))\n",
    "\n",
    "        test_size = 7\n",
    "        train_size = X.shape[0] + (n - 5) - test_size\n",
    "\n",
    "        X_train, y_train = X[:train_size], y[:train_size]\n",
    "        X_test, y_test = X[train_size:], y[train_size:]\n",
    "\n",
    "        print(\"Trains Size\", X_train.shape, y_train.shape)\n",
    "        print(\"Test Size\", X_test.shape, y_test.shape)\n",
    "\n",
    "        model = Sequential()\n",
    "        model.add(LSTM(50, activation='relu', input_shape=(n, 1)))\n",
    "        model.add(Dense(1))\n",
    "        model.compile(optimizer='adam', loss='mse')\n",
    "        \n",
    "        es = EarlyStopping(monitor='val_loss', verbose=1, patience=pat)\n",
    "        \n",
    "        model.fit(X_train, y_train, epochs=300, validation_data=(X_test, y_test), callbacks=[es], verbose=0)\n",
    "\n",
    "        prediction_15 = model.predict(X_test)\n",
    "        rmse = np.sqrt(mean_squared_error(y_test, prediction_15))\n",
    "\n",
    "        if rmse < best_rmse_15:\n",
    "            best_rmse_10 = rmse\n",
    "            best_param_15['n_features'] = n\n",
    "            best_param_15['patience'] = pat\n",
    "            best_predictions_15 = prediction_15\n",
    "            best_model_15 = model\n",
    "\n",
    "print('*'*50)\n",
    "print(\"Best Parameters for 15 minutes interval\", best_param_15)\n",
    "print(\"Best RMSE for 15 minutes interval\", best_rmse_15)\n",
    "print('*'*50)\n",
    "\n",
    "predictions_15_orig = scaler.inverse_transform(best_predictions_15)\n",
    "predictions_15_orig.flatten()"
   ]
  },
  {
   "cell_type": "code",
   "execution_count": 61,
   "metadata": {},
   "outputs": [
    {
     "data": {
      "text/plain": [
       "array([101.33333333, 104.33333333])"
      ]
     },
     "execution_count": 61,
     "metadata": {},
     "output_type": "execute_result"
    }
   ],
   "source": [
    "actual_values_15 = df_15['reading'].values[-predictions_15_orig.shape[0]:]\n",
    "actual_values_15 = actual_values_15.reshape(-1, 1)\n",
    "org_actual_15 = scaler.inverse_transform(actual_values_15)\n",
    "org_actual_15.flatten()"
   ]
  },
  {
   "cell_type": "code",
   "execution_count": 63,
   "metadata": {},
   "outputs": [
    {
     "data": {
      "text/html": [
       "<div>\n",
       "<style scoped>\n",
       "    .dataframe tbody tr th:only-of-type {\n",
       "        vertical-align: middle;\n",
       "    }\n",
       "\n",
       "    .dataframe tbody tr th {\n",
       "        vertical-align: top;\n",
       "    }\n",
       "\n",
       "    .dataframe thead th {\n",
       "        text-align: right;\n",
       "    }\n",
       "</style>\n",
       "<table border=\"1\" class=\"dataframe\">\n",
       "  <thead>\n",
       "    <tr style=\"text-align: right;\">\n",
       "      <th></th>\n",
       "      <th>Actual</th>\n",
       "      <th>Predicted</th>\n",
       "    </tr>\n",
       "    <tr>\n",
       "      <th>Glucose_time</th>\n",
       "      <th></th>\n",
       "      <th></th>\n",
       "    </tr>\n",
       "  </thead>\n",
       "  <tbody>\n",
       "    <tr>\n",
       "      <th>2023-03-05 23:30:00</th>\n",
       "      <td>101.333333</td>\n",
       "      <td>100.376144</td>\n",
       "    </tr>\n",
       "    <tr>\n",
       "      <th>2023-03-05 23:45:00</th>\n",
       "      <td>104.333333</td>\n",
       "      <td>100.675827</td>\n",
       "    </tr>\n",
       "  </tbody>\n",
       "</table>\n",
       "</div>"
      ],
      "text/plain": [
       "                         Actual   Predicted\n",
       "Glucose_time                               \n",
       "2023-03-05 23:30:00  101.333333  100.376144\n",
       "2023-03-05 23:45:00  104.333333  100.675827"
      ]
     },
     "execution_count": 63,
     "metadata": {},
     "output_type": "execute_result"
    }
   ],
   "source": [
    "final_df_15 = pd.DataFrame({'Actual': org_actual_15.flatten(), 'Predicted': predictions_15_orig.flatten()})\n",
    "\n",
    "final_df_15['Glucose_time'] = df_15.index[-predictions_15_orig.shape[0]:]\n",
    "final_df_15.set_index('Glucose_time', inplace=True)\n",
    "\n",
    "final_df_15"
   ]
  }
 ],
 "metadata": {
  "kernelspec": {
   "display_name": "Python 3",
   "language": "python",
   "name": "python3"
  },
  "language_info": {
   "codemirror_mode": {
    "name": "ipython",
    "version": 3
   },
   "file_extension": ".py",
   "mimetype": "text/x-python",
   "name": "python",
   "nbconvert_exporter": "python",
   "pygments_lexer": "ipython3",
   "version": "3.12.3"
  }
 },
 "nbformat": 4,
 "nbformat_minor": 2
}
